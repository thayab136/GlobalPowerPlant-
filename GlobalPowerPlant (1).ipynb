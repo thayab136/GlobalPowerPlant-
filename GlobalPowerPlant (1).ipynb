{
 "cells": [
  {
   "cell_type": "markdown",
   "id": "381c0526",
   "metadata": {},
   "source": [
    "# Global Power Plant Database:"
   ]
  },
  {
   "cell_type": "markdown",
   "id": "b2c7429b",
   "metadata": {},
   "source": [
    "# Problem Statement:"
   ]
  },
  {
   "cell_type": "markdown",
   "id": "a5c95a52",
   "metadata": {},
   "source": [
    "Description\n",
    "\n",
    "The Global Power Plant Database is a comprehensive, open source database of power plants around the world. It centralizes power plant data to make it easier to navigate, compare and draw insights for one’s own analysis. The database covers approximately 35,000 power plants from 167 countries and includes thermal plants (e.g. coal, gas, oil, nuclear, biomass, waste, geothermal) and renewables (e.g. hydro, wind, solar). Each power plant is geolocated and entries contain information on plant capacity, generation, ownership, and fuel type. It will be continuously updated as data becomes available."
   ]
  },
  {
   "cell_type": "markdown",
   "id": "ea0102ee",
   "metadata": {},
   "source": [
    "# Importing the necessary libraries:"
   ]
  },
  {
   "cell_type": "code",
   "execution_count": 1,
   "id": "324211c2",
   "metadata": {},
   "outputs": [],
   "source": [
    "import pandas as pd\n",
    "import numpy as np\n",
    "import seaborn as sns\n",
    "import warnings\n",
    "warnings.filterwarnings('ignore')"
   ]
  },
  {
   "cell_type": "code",
   "execution_count": 3,
   "id": "e550f9a7",
   "metadata": {},
   "outputs": [],
   "source": [
    "df=pd.read_csv('Global_Power_Plant.csv')"
   ]
  },
  {
   "cell_type": "code",
   "execution_count": 4,
   "id": "ca3fe87a",
   "metadata": {},
   "outputs": [
    {
     "data": {
      "text/html": [
       "<div>\n",
       "<style scoped>\n",
       "    .dataframe tbody tr th:only-of-type {\n",
       "        vertical-align: middle;\n",
       "    }\n",
       "\n",
       "    .dataframe tbody tr th {\n",
       "        vertical-align: top;\n",
       "    }\n",
       "\n",
       "    .dataframe thead th {\n",
       "        text-align: right;\n",
       "    }\n",
       "</style>\n",
       "<table border=\"1\" class=\"dataframe\">\n",
       "  <thead>\n",
       "    <tr style=\"text-align: right;\">\n",
       "      <th></th>\n",
       "      <th>country</th>\n",
       "      <th>country_long</th>\n",
       "      <th>name</th>\n",
       "      <th>gppd_idnr</th>\n",
       "      <th>capacity_mw</th>\n",
       "      <th>latitude</th>\n",
       "      <th>longitude</th>\n",
       "      <th>primary_fuel</th>\n",
       "      <th>other_fuel1</th>\n",
       "      <th>other_fuel2</th>\n",
       "      <th>...</th>\n",
       "      <th>geolocation_source</th>\n",
       "      <th>wepp_id</th>\n",
       "      <th>year_of_capacity_data</th>\n",
       "      <th>generation_gwh_2013</th>\n",
       "      <th>generation_gwh_2014</th>\n",
       "      <th>generation_gwh_2015</th>\n",
       "      <th>generation_gwh_2016</th>\n",
       "      <th>generation_gwh_2017</th>\n",
       "      <th>generation_data_source</th>\n",
       "      <th>estimated_generation_gwh</th>\n",
       "    </tr>\n",
       "  </thead>\n",
       "  <tbody>\n",
       "    <tr>\n",
       "      <th>0</th>\n",
       "      <td>IND</td>\n",
       "      <td>India</td>\n",
       "      <td>ACME Solar Tower</td>\n",
       "      <td>WRI1020239</td>\n",
       "      <td>2.5</td>\n",
       "      <td>28.1839</td>\n",
       "      <td>73.2407</td>\n",
       "      <td>Solar</td>\n",
       "      <td>NaN</td>\n",
       "      <td>NaN</td>\n",
       "      <td>...</td>\n",
       "      <td>National Renewable Energy Laboratory</td>\n",
       "      <td>NaN</td>\n",
       "      <td>NaN</td>\n",
       "      <td>NaN</td>\n",
       "      <td>NaN</td>\n",
       "      <td>NaN</td>\n",
       "      <td>NaN</td>\n",
       "      <td>NaN</td>\n",
       "      <td>NaN</td>\n",
       "      <td>NaN</td>\n",
       "    </tr>\n",
       "    <tr>\n",
       "      <th>1</th>\n",
       "      <td>IND</td>\n",
       "      <td>India</td>\n",
       "      <td>ADITYA CEMENT WORKS</td>\n",
       "      <td>WRI1019881</td>\n",
       "      <td>98.0</td>\n",
       "      <td>24.7663</td>\n",
       "      <td>74.6090</td>\n",
       "      <td>Coal</td>\n",
       "      <td>NaN</td>\n",
       "      <td>NaN</td>\n",
       "      <td>...</td>\n",
       "      <td>WRI</td>\n",
       "      <td>NaN</td>\n",
       "      <td>NaN</td>\n",
       "      <td>NaN</td>\n",
       "      <td>NaN</td>\n",
       "      <td>NaN</td>\n",
       "      <td>NaN</td>\n",
       "      <td>NaN</td>\n",
       "      <td>NaN</td>\n",
       "      <td>NaN</td>\n",
       "    </tr>\n",
       "    <tr>\n",
       "      <th>2</th>\n",
       "      <td>IND</td>\n",
       "      <td>India</td>\n",
       "      <td>AES Saurashtra Windfarms</td>\n",
       "      <td>WRI1026669</td>\n",
       "      <td>39.2</td>\n",
       "      <td>21.9038</td>\n",
       "      <td>69.3732</td>\n",
       "      <td>Wind</td>\n",
       "      <td>NaN</td>\n",
       "      <td>NaN</td>\n",
       "      <td>...</td>\n",
       "      <td>WRI</td>\n",
       "      <td>NaN</td>\n",
       "      <td>NaN</td>\n",
       "      <td>NaN</td>\n",
       "      <td>NaN</td>\n",
       "      <td>NaN</td>\n",
       "      <td>NaN</td>\n",
       "      <td>NaN</td>\n",
       "      <td>NaN</td>\n",
       "      <td>NaN</td>\n",
       "    </tr>\n",
       "    <tr>\n",
       "      <th>3</th>\n",
       "      <td>IND</td>\n",
       "      <td>India</td>\n",
       "      <td>AGARTALA GT</td>\n",
       "      <td>IND0000001</td>\n",
       "      <td>135.0</td>\n",
       "      <td>23.8712</td>\n",
       "      <td>91.3602</td>\n",
       "      <td>Gas</td>\n",
       "      <td>NaN</td>\n",
       "      <td>NaN</td>\n",
       "      <td>...</td>\n",
       "      <td>WRI</td>\n",
       "      <td>NaN</td>\n",
       "      <td>2018.0</td>\n",
       "      <td>631.777928</td>\n",
       "      <td>617.789264</td>\n",
       "      <td>843.747</td>\n",
       "      <td>886.004428</td>\n",
       "      <td>663.774500</td>\n",
       "      <td>Central Electricity Authority</td>\n",
       "      <td>NaN</td>\n",
       "    </tr>\n",
       "    <tr>\n",
       "      <th>4</th>\n",
       "      <td>IND</td>\n",
       "      <td>India</td>\n",
       "      <td>AKALTARA TPP</td>\n",
       "      <td>IND0000002</td>\n",
       "      <td>1800.0</td>\n",
       "      <td>21.9603</td>\n",
       "      <td>82.4091</td>\n",
       "      <td>Coal</td>\n",
       "      <td>Oil</td>\n",
       "      <td>NaN</td>\n",
       "      <td>...</td>\n",
       "      <td>WRI</td>\n",
       "      <td>NaN</td>\n",
       "      <td>2018.0</td>\n",
       "      <td>1668.290000</td>\n",
       "      <td>3035.550000</td>\n",
       "      <td>5916.370</td>\n",
       "      <td>6243.000000</td>\n",
       "      <td>5385.579736</td>\n",
       "      <td>Central Electricity Authority</td>\n",
       "      <td>NaN</td>\n",
       "    </tr>\n",
       "  </tbody>\n",
       "</table>\n",
       "<p>5 rows × 25 columns</p>\n",
       "</div>"
      ],
      "text/plain": [
       "  country country_long                      name   gppd_idnr  capacity_mw  \\\n",
       "0     IND        India          ACME Solar Tower  WRI1020239          2.5   \n",
       "1     IND        India       ADITYA CEMENT WORKS  WRI1019881         98.0   \n",
       "2     IND        India  AES Saurashtra Windfarms  WRI1026669         39.2   \n",
       "3     IND        India               AGARTALA GT  IND0000001        135.0   \n",
       "4     IND        India              AKALTARA TPP  IND0000002       1800.0   \n",
       "\n",
       "   latitude  longitude primary_fuel other_fuel1 other_fuel2  ...  \\\n",
       "0   28.1839    73.2407        Solar         NaN         NaN  ...   \n",
       "1   24.7663    74.6090         Coal         NaN         NaN  ...   \n",
       "2   21.9038    69.3732         Wind         NaN         NaN  ...   \n",
       "3   23.8712    91.3602          Gas         NaN         NaN  ...   \n",
       "4   21.9603    82.4091         Coal         Oil         NaN  ...   \n",
       "\n",
       "                     geolocation_source  wepp_id year_of_capacity_data  \\\n",
       "0  National Renewable Energy Laboratory      NaN                   NaN   \n",
       "1                                   WRI      NaN                   NaN   \n",
       "2                                   WRI      NaN                   NaN   \n",
       "3                                   WRI      NaN                2018.0   \n",
       "4                                   WRI      NaN                2018.0   \n",
       "\n",
       "  generation_gwh_2013 generation_gwh_2014 generation_gwh_2015  \\\n",
       "0                 NaN                 NaN                 NaN   \n",
       "1                 NaN                 NaN                 NaN   \n",
       "2                 NaN                 NaN                 NaN   \n",
       "3          631.777928          617.789264             843.747   \n",
       "4         1668.290000         3035.550000            5916.370   \n",
       "\n",
       "   generation_gwh_2016  generation_gwh_2017         generation_data_source  \\\n",
       "0                  NaN                  NaN                            NaN   \n",
       "1                  NaN                  NaN                            NaN   \n",
       "2                  NaN                  NaN                            NaN   \n",
       "3           886.004428           663.774500  Central Electricity Authority   \n",
       "4          6243.000000          5385.579736  Central Electricity Authority   \n",
       "\n",
       "   estimated_generation_gwh  \n",
       "0                       NaN  \n",
       "1                       NaN  \n",
       "2                       NaN  \n",
       "3                       NaN  \n",
       "4                       NaN  \n",
       "\n",
       "[5 rows x 25 columns]"
      ]
     },
     "execution_count": 4,
     "metadata": {},
     "output_type": "execute_result"
    }
   ],
   "source": [
    "df.head()"
   ]
  },
  {
   "cell_type": "code",
   "execution_count": 5,
   "id": "7846a1b5",
   "metadata": {},
   "outputs": [
    {
     "data": {
      "text/html": [
       "<div>\n",
       "<style scoped>\n",
       "    .dataframe tbody tr th:only-of-type {\n",
       "        vertical-align: middle;\n",
       "    }\n",
       "\n",
       "    .dataframe tbody tr th {\n",
       "        vertical-align: top;\n",
       "    }\n",
       "\n",
       "    .dataframe thead th {\n",
       "        text-align: right;\n",
       "    }\n",
       "</style>\n",
       "<table border=\"1\" class=\"dataframe\">\n",
       "  <thead>\n",
       "    <tr style=\"text-align: right;\">\n",
       "      <th></th>\n",
       "      <th>country</th>\n",
       "      <th>country_long</th>\n",
       "      <th>name</th>\n",
       "      <th>gppd_idnr</th>\n",
       "      <th>capacity_mw</th>\n",
       "      <th>latitude</th>\n",
       "      <th>longitude</th>\n",
       "      <th>primary_fuel</th>\n",
       "      <th>other_fuel1</th>\n",
       "      <th>other_fuel2</th>\n",
       "      <th>...</th>\n",
       "      <th>geolocation_source</th>\n",
       "      <th>wepp_id</th>\n",
       "      <th>year_of_capacity_data</th>\n",
       "      <th>generation_gwh_2013</th>\n",
       "      <th>generation_gwh_2014</th>\n",
       "      <th>generation_gwh_2015</th>\n",
       "      <th>generation_gwh_2016</th>\n",
       "      <th>generation_gwh_2017</th>\n",
       "      <th>generation_data_source</th>\n",
       "      <th>estimated_generation_gwh</th>\n",
       "    </tr>\n",
       "  </thead>\n",
       "  <tbody>\n",
       "    <tr>\n",
       "      <th>903</th>\n",
       "      <td>IND</td>\n",
       "      <td>India</td>\n",
       "      <td>YERMARUS TPP</td>\n",
       "      <td>IND0000513</td>\n",
       "      <td>1600.0</td>\n",
       "      <td>16.2949</td>\n",
       "      <td>77.3568</td>\n",
       "      <td>Coal</td>\n",
       "      <td>Oil</td>\n",
       "      <td>NaN</td>\n",
       "      <td>...</td>\n",
       "      <td>WRI</td>\n",
       "      <td>NaN</td>\n",
       "      <td>2018.0</td>\n",
       "      <td>NaN</td>\n",
       "      <td>NaN</td>\n",
       "      <td>0.994875</td>\n",
       "      <td>233.59665</td>\n",
       "      <td>865.4</td>\n",
       "      <td>Central Electricity Authority</td>\n",
       "      <td>NaN</td>\n",
       "    </tr>\n",
       "    <tr>\n",
       "      <th>904</th>\n",
       "      <td>IND</td>\n",
       "      <td>India</td>\n",
       "      <td>Yelesandra Solar Power Plant</td>\n",
       "      <td>WRI1026222</td>\n",
       "      <td>3.0</td>\n",
       "      <td>12.8932</td>\n",
       "      <td>78.1654</td>\n",
       "      <td>Solar</td>\n",
       "      <td>NaN</td>\n",
       "      <td>NaN</td>\n",
       "      <td>...</td>\n",
       "      <td>Industry About</td>\n",
       "      <td>NaN</td>\n",
       "      <td>NaN</td>\n",
       "      <td>NaN</td>\n",
       "      <td>NaN</td>\n",
       "      <td>NaN</td>\n",
       "      <td>NaN</td>\n",
       "      <td>NaN</td>\n",
       "      <td>NaN</td>\n",
       "      <td>NaN</td>\n",
       "    </tr>\n",
       "    <tr>\n",
       "      <th>905</th>\n",
       "      <td>IND</td>\n",
       "      <td>India</td>\n",
       "      <td>Yelisirur wind power project</td>\n",
       "      <td>WRI1026776</td>\n",
       "      <td>25.5</td>\n",
       "      <td>15.2758</td>\n",
       "      <td>75.5811</td>\n",
       "      <td>Wind</td>\n",
       "      <td>NaN</td>\n",
       "      <td>NaN</td>\n",
       "      <td>...</td>\n",
       "      <td>WRI</td>\n",
       "      <td>NaN</td>\n",
       "      <td>NaN</td>\n",
       "      <td>NaN</td>\n",
       "      <td>NaN</td>\n",
       "      <td>NaN</td>\n",
       "      <td>NaN</td>\n",
       "      <td>NaN</td>\n",
       "      <td>NaN</td>\n",
       "      <td>NaN</td>\n",
       "    </tr>\n",
       "    <tr>\n",
       "      <th>906</th>\n",
       "      <td>IND</td>\n",
       "      <td>India</td>\n",
       "      <td>ZAWAR MINES</td>\n",
       "      <td>WRI1019901</td>\n",
       "      <td>80.0</td>\n",
       "      <td>24.3500</td>\n",
       "      <td>73.7477</td>\n",
       "      <td>Coal</td>\n",
       "      <td>NaN</td>\n",
       "      <td>NaN</td>\n",
       "      <td>...</td>\n",
       "      <td>WRI</td>\n",
       "      <td>NaN</td>\n",
       "      <td>NaN</td>\n",
       "      <td>NaN</td>\n",
       "      <td>NaN</td>\n",
       "      <td>NaN</td>\n",
       "      <td>NaN</td>\n",
       "      <td>NaN</td>\n",
       "      <td>NaN</td>\n",
       "      <td>NaN</td>\n",
       "    </tr>\n",
       "    <tr>\n",
       "      <th>907</th>\n",
       "      <td>IND</td>\n",
       "      <td>India</td>\n",
       "      <td>iEnergy Theni Wind Farm</td>\n",
       "      <td>WRI1026761</td>\n",
       "      <td>16.5</td>\n",
       "      <td>9.9344</td>\n",
       "      <td>77.4768</td>\n",
       "      <td>Wind</td>\n",
       "      <td>NaN</td>\n",
       "      <td>NaN</td>\n",
       "      <td>...</td>\n",
       "      <td>WRI</td>\n",
       "      <td>NaN</td>\n",
       "      <td>NaN</td>\n",
       "      <td>NaN</td>\n",
       "      <td>NaN</td>\n",
       "      <td>NaN</td>\n",
       "      <td>NaN</td>\n",
       "      <td>NaN</td>\n",
       "      <td>NaN</td>\n",
       "      <td>NaN</td>\n",
       "    </tr>\n",
       "  </tbody>\n",
       "</table>\n",
       "<p>5 rows × 25 columns</p>\n",
       "</div>"
      ],
      "text/plain": [
       "    country country_long                          name   gppd_idnr  \\\n",
       "903     IND        India                  YERMARUS TPP  IND0000513   \n",
       "904     IND        India  Yelesandra Solar Power Plant  WRI1026222   \n",
       "905     IND        India  Yelisirur wind power project  WRI1026776   \n",
       "906     IND        India                   ZAWAR MINES  WRI1019901   \n",
       "907     IND        India       iEnergy Theni Wind Farm  WRI1026761   \n",
       "\n",
       "     capacity_mw  latitude  longitude primary_fuel other_fuel1 other_fuel2  \\\n",
       "903       1600.0   16.2949    77.3568         Coal         Oil         NaN   \n",
       "904          3.0   12.8932    78.1654        Solar         NaN         NaN   \n",
       "905         25.5   15.2758    75.5811         Wind         NaN         NaN   \n",
       "906         80.0   24.3500    73.7477         Coal         NaN         NaN   \n",
       "907         16.5    9.9344    77.4768         Wind         NaN         NaN   \n",
       "\n",
       "     ...  geolocation_source  wepp_id year_of_capacity_data  \\\n",
       "903  ...                 WRI      NaN                2018.0   \n",
       "904  ...      Industry About      NaN                   NaN   \n",
       "905  ...                 WRI      NaN                   NaN   \n",
       "906  ...                 WRI      NaN                   NaN   \n",
       "907  ...                 WRI      NaN                   NaN   \n",
       "\n",
       "    generation_gwh_2013 generation_gwh_2014 generation_gwh_2015  \\\n",
       "903                 NaN                 NaN            0.994875   \n",
       "904                 NaN                 NaN                 NaN   \n",
       "905                 NaN                 NaN                 NaN   \n",
       "906                 NaN                 NaN                 NaN   \n",
       "907                 NaN                 NaN                 NaN   \n",
       "\n",
       "     generation_gwh_2016  generation_gwh_2017         generation_data_source  \\\n",
       "903            233.59665                865.4  Central Electricity Authority   \n",
       "904                  NaN                  NaN                            NaN   \n",
       "905                  NaN                  NaN                            NaN   \n",
       "906                  NaN                  NaN                            NaN   \n",
       "907                  NaN                  NaN                            NaN   \n",
       "\n",
       "     estimated_generation_gwh  \n",
       "903                       NaN  \n",
       "904                       NaN  \n",
       "905                       NaN  \n",
       "906                       NaN  \n",
       "907                       NaN  \n",
       "\n",
       "[5 rows x 25 columns]"
      ]
     },
     "execution_count": 5,
     "metadata": {},
     "output_type": "execute_result"
    }
   ],
   "source": [
    "df.tail()"
   ]
  },
  {
   "cell_type": "code",
   "execution_count": 12,
   "id": "770a7d93",
   "metadata": {},
   "outputs": [
    {
     "data": {
      "text/plain": [
       "(908, 25)"
      ]
     },
     "execution_count": 12,
     "metadata": {},
     "output_type": "execute_result"
    }
   ],
   "source": [
    "df.shape"
   ]
  },
  {
   "cell_type": "code",
   "execution_count": 13,
   "id": "cb7db7d8",
   "metadata": {},
   "outputs": [
    {
     "data": {
      "text/plain": [
       "country                       0\n",
       "country_long                  0\n",
       "name                          0\n",
       "gppd_idnr                     0\n",
       "capacity_mw                   0\n",
       "latitude                     46\n",
       "longitude                    46\n",
       "primary_fuel                  0\n",
       "other_fuel1                 709\n",
       "other_fuel2                 907\n",
       "other_fuel3                 908\n",
       "commissioning_year          380\n",
       "owner                       566\n",
       "source                        0\n",
       "url                           0\n",
       "geolocation_source           19\n",
       "wepp_id                     908\n",
       "year_of_capacity_data       388\n",
       "generation_gwh_2013         524\n",
       "generation_gwh_2014         507\n",
       "generation_gwh_2015         483\n",
       "generation_gwh_2016         471\n",
       "generation_gwh_2017         465\n",
       "generation_data_source      458\n",
       "estimated_generation_gwh    908\n",
       "dtype: int64"
      ]
     },
     "execution_count": 13,
     "metadata": {},
     "output_type": "execute_result"
    }
   ],
   "source": [
    "df.isnull().sum()"
   ]
  },
  {
   "cell_type": "code",
   "execution_count": 14,
   "id": "04467040",
   "metadata": {},
   "outputs": [
    {
     "name": "stdout",
     "output_type": "stream",
     "text": [
      "<class 'pandas.core.frame.DataFrame'>\n",
      "RangeIndex: 908 entries, 0 to 907\n",
      "Data columns (total 25 columns):\n",
      " #   Column                    Non-Null Count  Dtype  \n",
      "---  ------                    --------------  -----  \n",
      " 0   country                   908 non-null    object \n",
      " 1   country_long              908 non-null    object \n",
      " 2   name                      908 non-null    object \n",
      " 3   gppd_idnr                 908 non-null    object \n",
      " 4   capacity_mw               908 non-null    float64\n",
      " 5   latitude                  862 non-null    float64\n",
      " 6   longitude                 862 non-null    float64\n",
      " 7   primary_fuel              908 non-null    object \n",
      " 8   other_fuel1               199 non-null    object \n",
      " 9   other_fuel2               1 non-null      object \n",
      " 10  other_fuel3               0 non-null      float64\n",
      " 11  commissioning_year        528 non-null    float64\n",
      " 12  owner                     342 non-null    object \n",
      " 13  source                    908 non-null    object \n",
      " 14  url                       908 non-null    object \n",
      " 15  geolocation_source        889 non-null    object \n",
      " 16  wepp_id                   0 non-null      float64\n",
      " 17  year_of_capacity_data     520 non-null    float64\n",
      " 18  generation_gwh_2013       384 non-null    float64\n",
      " 19  generation_gwh_2014       401 non-null    float64\n",
      " 20  generation_gwh_2015       425 non-null    float64\n",
      " 21  generation_gwh_2016       437 non-null    float64\n",
      " 22  generation_gwh_2017       443 non-null    float64\n",
      " 23  generation_data_source    450 non-null    object \n",
      " 24  estimated_generation_gwh  0 non-null      float64\n",
      "dtypes: float64(13), object(12)\n",
      "memory usage: 177.5+ KB\n"
     ]
    }
   ],
   "source": [
    "df.info()"
   ]
  },
  {
   "cell_type": "markdown",
   "id": "2d3b8590",
   "metadata": {},
   "source": [
    "There are 12 object and 13 numerical columns in data"
   ]
  },
  {
   "cell_type": "markdown",
   "id": "d814a3cf",
   "metadata": {},
   "source": [
    "#### we are going to remove some columns those having maximum no of null values because if we fill those values prediction will not correct"
   ]
  },
  {
   "cell_type": "code",
   "execution_count": 15,
   "id": "dfb75726",
   "metadata": {},
   "outputs": [],
   "source": [
    "df.drop(['estimated_generation_gwh','wepp_id','other_fuel3','other_fuel1','other_fuel2'],axis=1,inplace=True)"
   ]
  },
  {
   "cell_type": "code",
   "execution_count": 16,
   "id": "3d71647d",
   "metadata": {},
   "outputs": [
    {
     "data": {
      "text/plain": [
       "country                     0\n",
       "country_long                0\n",
       "name                        0\n",
       "gppd_idnr                   0\n",
       "capacity_mw                 0\n",
       "latitude                   46\n",
       "longitude                  46\n",
       "primary_fuel                0\n",
       "commissioning_year        380\n",
       "owner                     566\n",
       "source                      0\n",
       "url                         0\n",
       "geolocation_source         19\n",
       "year_of_capacity_data     388\n",
       "generation_gwh_2013       524\n",
       "generation_gwh_2014       507\n",
       "generation_gwh_2015       483\n",
       "generation_gwh_2016       471\n",
       "generation_gwh_2017       465\n",
       "generation_data_source    458\n",
       "dtype: int64"
      ]
     },
     "execution_count": 16,
     "metadata": {},
     "output_type": "execute_result"
    }
   ],
   "source": [
    "df.isnull().sum()"
   ]
  },
  {
   "cell_type": "markdown",
   "id": "364f90de",
   "metadata": {},
   "source": [
    "#### also removing unwanted columns"
   ]
  },
  {
   "cell_type": "code",
   "execution_count": 17,
   "id": "a4c9ecdb",
   "metadata": {},
   "outputs": [],
   "source": [
    "df.drop(['gppd_idnr','owner','generation_data_source'],axis=1,inplace=True)"
   ]
  },
  {
   "cell_type": "code",
   "execution_count": 18,
   "id": "60ef16c4",
   "metadata": {},
   "outputs": [
    {
     "data": {
      "text/plain": [
       "country                    0\n",
       "country_long               0\n",
       "name                       0\n",
       "capacity_mw                0\n",
       "latitude                  46\n",
       "longitude                 46\n",
       "primary_fuel               0\n",
       "commissioning_year       380\n",
       "source                     0\n",
       "url                        0\n",
       "geolocation_source        19\n",
       "year_of_capacity_data    388\n",
       "generation_gwh_2013      524\n",
       "generation_gwh_2014      507\n",
       "generation_gwh_2015      483\n",
       "generation_gwh_2016      471\n",
       "generation_gwh_2017      465\n",
       "dtype: int64"
      ]
     },
     "execution_count": 18,
     "metadata": {},
     "output_type": "execute_result"
    }
   ],
   "source": [
    "df.isnull().sum()"
   ]
  },
  {
   "cell_type": "code",
   "execution_count": 19,
   "id": "4552179f",
   "metadata": {},
   "outputs": [
    {
     "data": {
      "text/html": [
       "<div>\n",
       "<style scoped>\n",
       "    .dataframe tbody tr th:only-of-type {\n",
       "        vertical-align: middle;\n",
       "    }\n",
       "\n",
       "    .dataframe tbody tr th {\n",
       "        vertical-align: top;\n",
       "    }\n",
       "\n",
       "    .dataframe thead th {\n",
       "        text-align: right;\n",
       "    }\n",
       "</style>\n",
       "<table border=\"1\" class=\"dataframe\">\n",
       "  <thead>\n",
       "    <tr style=\"text-align: right;\">\n",
       "      <th></th>\n",
       "      <th>capacity_mw</th>\n",
       "      <th>latitude</th>\n",
       "      <th>longitude</th>\n",
       "      <th>commissioning_year</th>\n",
       "      <th>year_of_capacity_data</th>\n",
       "      <th>generation_gwh_2013</th>\n",
       "      <th>generation_gwh_2014</th>\n",
       "      <th>generation_gwh_2015</th>\n",
       "      <th>generation_gwh_2016</th>\n",
       "      <th>generation_gwh_2017</th>\n",
       "    </tr>\n",
       "  </thead>\n",
       "  <tbody>\n",
       "    <tr>\n",
       "      <th>count</th>\n",
       "      <td>908.000000</td>\n",
       "      <td>862.000000</td>\n",
       "      <td>862.000000</td>\n",
       "      <td>528.000000</td>\n",
       "      <td>520.0</td>\n",
       "      <td>384.000000</td>\n",
       "      <td>401.000000</td>\n",
       "      <td>425.000000</td>\n",
       "      <td>437.000000</td>\n",
       "      <td>443.000000</td>\n",
       "    </tr>\n",
       "    <tr>\n",
       "      <th>mean</th>\n",
       "      <td>321.046378</td>\n",
       "      <td>21.196189</td>\n",
       "      <td>77.447848</td>\n",
       "      <td>1996.876894</td>\n",
       "      <td>2018.0</td>\n",
       "      <td>2304.059202</td>\n",
       "      <td>2420.393316</td>\n",
       "      <td>2414.072373</td>\n",
       "      <td>2453.936292</td>\n",
       "      <td>2531.754458</td>\n",
       "    </tr>\n",
       "    <tr>\n",
       "      <th>std</th>\n",
       "      <td>580.221767</td>\n",
       "      <td>6.248627</td>\n",
       "      <td>4.907260</td>\n",
       "      <td>17.047817</td>\n",
       "      <td>0.0</td>\n",
       "      <td>3794.767492</td>\n",
       "      <td>4013.558173</td>\n",
       "      <td>4183.203199</td>\n",
       "      <td>4152.038216</td>\n",
       "      <td>4187.236364</td>\n",
       "    </tr>\n",
       "    <tr>\n",
       "      <th>min</th>\n",
       "      <td>0.000000</td>\n",
       "      <td>8.168900</td>\n",
       "      <td>68.644700</td>\n",
       "      <td>1927.000000</td>\n",
       "      <td>2018.0</td>\n",
       "      <td>0.000000</td>\n",
       "      <td>0.000000</td>\n",
       "      <td>0.000000</td>\n",
       "      <td>0.000000</td>\n",
       "      <td>0.000000</td>\n",
       "    </tr>\n",
       "    <tr>\n",
       "      <th>25%</th>\n",
       "      <td>16.837500</td>\n",
       "      <td>16.771575</td>\n",
       "      <td>74.258975</td>\n",
       "      <td>1988.000000</td>\n",
       "      <td>2018.0</td>\n",
       "      <td>244.458088</td>\n",
       "      <td>223.650436</td>\n",
       "      <td>174.174750</td>\n",
       "      <td>187.193669</td>\n",
       "      <td>177.643170</td>\n",
       "    </tr>\n",
       "    <tr>\n",
       "      <th>50%</th>\n",
       "      <td>60.000000</td>\n",
       "      <td>21.778300</td>\n",
       "      <td>76.719250</td>\n",
       "      <td>2000.000000</td>\n",
       "      <td>2018.0</td>\n",
       "      <td>797.063475</td>\n",
       "      <td>805.760000</td>\n",
       "      <td>701.027250</td>\n",
       "      <td>716.728350</td>\n",
       "      <td>807.601700</td>\n",
       "    </tr>\n",
       "    <tr>\n",
       "      <th>75%</th>\n",
       "      <td>388.125000</td>\n",
       "      <td>25.516375</td>\n",
       "      <td>79.441475</td>\n",
       "      <td>2011.250000</td>\n",
       "      <td>2018.0</td>\n",
       "      <td>2795.021500</td>\n",
       "      <td>3034.575000</td>\n",
       "      <td>3080.000000</td>\n",
       "      <td>3263.483000</td>\n",
       "      <td>3258.785000</td>\n",
       "    </tr>\n",
       "    <tr>\n",
       "      <th>max</th>\n",
       "      <td>4760.000000</td>\n",
       "      <td>34.649000</td>\n",
       "      <td>95.408000</td>\n",
       "      <td>2018.000000</td>\n",
       "      <td>2018.0</td>\n",
       "      <td>27586.200000</td>\n",
       "      <td>28127.000000</td>\n",
       "      <td>30539.000000</td>\n",
       "      <td>30015.000000</td>\n",
       "      <td>35116.000000</td>\n",
       "    </tr>\n",
       "  </tbody>\n",
       "</table>\n",
       "</div>"
      ],
      "text/plain": [
       "       capacity_mw    latitude   longitude  commissioning_year  \\\n",
       "count   908.000000  862.000000  862.000000          528.000000   \n",
       "mean    321.046378   21.196189   77.447848         1996.876894   \n",
       "std     580.221767    6.248627    4.907260           17.047817   \n",
       "min       0.000000    8.168900   68.644700         1927.000000   \n",
       "25%      16.837500   16.771575   74.258975         1988.000000   \n",
       "50%      60.000000   21.778300   76.719250         2000.000000   \n",
       "75%     388.125000   25.516375   79.441475         2011.250000   \n",
       "max    4760.000000   34.649000   95.408000         2018.000000   \n",
       "\n",
       "       year_of_capacity_data  generation_gwh_2013  generation_gwh_2014  \\\n",
       "count                  520.0           384.000000           401.000000   \n",
       "mean                  2018.0          2304.059202          2420.393316   \n",
       "std                      0.0          3794.767492          4013.558173   \n",
       "min                   2018.0             0.000000             0.000000   \n",
       "25%                   2018.0           244.458088           223.650436   \n",
       "50%                   2018.0           797.063475           805.760000   \n",
       "75%                   2018.0          2795.021500          3034.575000   \n",
       "max                   2018.0         27586.200000         28127.000000   \n",
       "\n",
       "       generation_gwh_2015  generation_gwh_2016  generation_gwh_2017  \n",
       "count           425.000000           437.000000           443.000000  \n",
       "mean           2414.072373          2453.936292          2531.754458  \n",
       "std            4183.203199          4152.038216          4187.236364  \n",
       "min               0.000000             0.000000             0.000000  \n",
       "25%             174.174750           187.193669           177.643170  \n",
       "50%             701.027250           716.728350           807.601700  \n",
       "75%            3080.000000          3263.483000          3258.785000  \n",
       "max           30539.000000         30015.000000         35116.000000  "
      ]
     },
     "execution_count": 19,
     "metadata": {},
     "output_type": "execute_result"
    }
   ],
   "source": [
    "df.describe()"
   ]
  },
  {
   "cell_type": "code",
   "execution_count": 20,
   "id": "911ab435",
   "metadata": {},
   "outputs": [
    {
     "data": {
      "text/plain": [
       "1"
      ]
     },
     "execution_count": 20,
     "metadata": {},
     "output_type": "execute_result"
    }
   ],
   "source": [
    "df['year_of_capacity_data'].nunique()"
   ]
  },
  {
   "cell_type": "markdown",
   "id": "7e51df1e",
   "metadata": {},
   "source": [
    " also removing column \"year of capacity data because it having one unique value\""
   ]
  },
  {
   "cell_type": "code",
   "execution_count": 21,
   "id": "7aa657eb",
   "metadata": {},
   "outputs": [
    {
     "data": {
      "text/plain": [
       "908"
      ]
     },
     "execution_count": 21,
     "metadata": {},
     "output_type": "execute_result"
    }
   ],
   "source": [
    "df['name'].nunique()"
   ]
  },
  {
   "cell_type": "markdown",
   "id": "9c156ffd",
   "metadata": {},
   "source": [
    "also dropping name column there are no use of it"
   ]
  },
  {
   "cell_type": "code",
   "execution_count": 22,
   "id": "e9274e29",
   "metadata": {},
   "outputs": [],
   "source": [
    "df.drop(['name','url'],axis=1,inplace=True)"
   ]
  },
  {
   "cell_type": "code",
   "execution_count": 23,
   "id": "846b5e2a",
   "metadata": {},
   "outputs": [
    {
     "data": {
      "text/plain": [
       "array(['National Renewable Energy Laboratory', 'WRI', nan,\n",
       "       'Industry About'], dtype=object)"
      ]
     },
     "execution_count": 23,
     "metadata": {},
     "output_type": "execute_result"
    }
   ],
   "source": [
    "df['geolocation_source'].unique()"
   ]
  },
  {
   "cell_type": "code",
   "execution_count": 24,
   "id": "459096b6",
   "metadata": {},
   "outputs": [],
   "source": [
    "# filling geolocation_source with mode because category data\n",
    "df['geolocation_source'].fillna(df['geolocation_source'].mode()[0], inplace=True)"
   ]
  },
  {
   "cell_type": "code",
   "execution_count": 25,
   "id": "51e3a70e",
   "metadata": {},
   "outputs": [],
   "source": [
    "# removing 'year_of_capacity_data' column\n",
    "df.drop('year_of_capacity_data',axis=1,inplace=True)"
   ]
  },
  {
   "cell_type": "code",
   "execution_count": 26,
   "id": "b06d75f4",
   "metadata": {},
   "outputs": [],
   "source": [
    "# filling null values with median in numerical columns\n",
    "df.fillna(df.median()[0], inplace=True)"
   ]
  },
  {
   "cell_type": "code",
   "execution_count": 27,
   "id": "7cefe91a",
   "metadata": {},
   "outputs": [
    {
     "data": {
      "text/plain": [
       "country                0\n",
       "country_long           0\n",
       "capacity_mw            0\n",
       "latitude               0\n",
       "longitude              0\n",
       "primary_fuel           0\n",
       "commissioning_year     0\n",
       "source                 0\n",
       "geolocation_source     0\n",
       "generation_gwh_2013    0\n",
       "generation_gwh_2014    0\n",
       "generation_gwh_2015    0\n",
       "generation_gwh_2016    0\n",
       "generation_gwh_2017    0\n",
       "dtype: int64"
      ]
     },
     "execution_count": 27,
     "metadata": {},
     "output_type": "execute_result"
    }
   ],
   "source": [
    "df.isnull().sum()"
   ]
  },
  {
   "cell_type": "markdown",
   "id": "08266d26",
   "metadata": {},
   "source": [
    "here we can see that null values has been removed"
   ]
  },
  {
   "cell_type": "code",
   "execution_count": 28,
   "id": "bb4cd91c",
   "metadata": {},
   "outputs": [
    {
     "data": {
      "text/plain": [
       "191"
      ]
     },
     "execution_count": 28,
     "metadata": {},
     "output_type": "execute_result"
    }
   ],
   "source": [
    "df['source'].nunique()"
   ]
  },
  {
   "cell_type": "code",
   "execution_count": 29,
   "id": "391ffbe9",
   "metadata": {},
   "outputs": [
    {
     "data": {
      "text/plain": [
       "3"
      ]
     },
     "execution_count": 29,
     "metadata": {},
     "output_type": "execute_result"
    }
   ],
   "source": [
    "df['geolocation_source'].nunique()"
   ]
  },
  {
   "cell_type": "code",
   "execution_count": 30,
   "id": "cd5f1218",
   "metadata": {},
   "outputs": [
    {
     "data": {
      "text/plain": [
       "1"
      ]
     },
     "execution_count": 30,
     "metadata": {},
     "output_type": "execute_result"
    }
   ],
   "source": [
    "df['country'].nunique()"
   ]
  },
  {
   "cell_type": "markdown",
   "id": "62b7e47c",
   "metadata": {},
   "source": [
    "* also dropping columns'country' and 'country_long' because having one country name only,it will not help for any prediction"
   ]
  },
  {
   "cell_type": "code",
   "execution_count": 31,
   "id": "65ebcfb0",
   "metadata": {},
   "outputs": [],
   "source": [
    "df.drop(['country','country_long'],axis=1,inplace=True)"
   ]
  },
  {
   "cell_type": "code",
   "execution_count": 32,
   "id": "19b34097",
   "metadata": {},
   "outputs": [
    {
     "name": "stdout",
     "output_type": "stream",
     "text": [
      "<class 'pandas.core.frame.DataFrame'>\n",
      "RangeIndex: 908 entries, 0 to 907\n",
      "Data columns (total 12 columns):\n",
      " #   Column               Non-Null Count  Dtype  \n",
      "---  ------               --------------  -----  \n",
      " 0   capacity_mw          908 non-null    float64\n",
      " 1   latitude             908 non-null    float64\n",
      " 2   longitude            908 non-null    float64\n",
      " 3   primary_fuel         908 non-null    object \n",
      " 4   commissioning_year   908 non-null    float64\n",
      " 5   source               908 non-null    object \n",
      " 6   geolocation_source   908 non-null    object \n",
      " 7   generation_gwh_2013  908 non-null    float64\n",
      " 8   generation_gwh_2014  908 non-null    float64\n",
      " 9   generation_gwh_2015  908 non-null    float64\n",
      " 10  generation_gwh_2016  908 non-null    float64\n",
      " 11  generation_gwh_2017  908 non-null    float64\n",
      "dtypes: float64(9), object(3)\n",
      "memory usage: 85.2+ KB\n"
     ]
    }
   ],
   "source": [
    "df.info()"
   ]
  },
  {
   "cell_type": "code",
   "execution_count": 33,
   "id": "03c055a0",
   "metadata": {},
   "outputs": [
    {
     "data": {
      "text/plain": [
       "<AxesSubplot:xlabel='primary_fuel', ylabel='count'>"
      ]
     },
     "execution_count": 33,
     "metadata": {},
     "output_type": "execute_result"
    },
    {
     "data": {
      "image/png": "[encoded data removed]",
      "text/plain": [
       "<Figure size 432x288 with 1 Axes>"
      ]
     },
     "metadata": {},
     "output_type": "display_data"
    }
   ],
   "source": [
    "sns.set_style(\"whitegrid\")\n",
    "sns.countplot(x=\"primary_fuel\", data=df)"
   ]
  },
  {
   "cell_type": "markdown",
   "id": "27266d42",
   "metadata": {},
   "source": [
    "# EDA"
   ]
  },
  {
   "cell_type": "code",
   "execution_count": 34,
   "id": "35d18ca1",
   "metadata": {},
   "outputs": [],
   "source": [
    "import matplotlib.pyplot as plt"
   ]
  },
  {
   "cell_type": "code",
   "execution_count": 35,
   "id": "315ffd27",
   "metadata": {},
   "outputs": [
    {
     "data": {
      "text/html": [
       "<div>\n",
       "<style scoped>\n",
       "    .dataframe tbody tr th:only-of-type {\n",
       "        vertical-align: middle;\n",
       "    }\n",
       "\n",
       "    .dataframe tbody tr th {\n",
       "        vertical-align: top;\n",
       "    }\n",
       "\n",
       "    .dataframe thead th {\n",
       "        text-align: right;\n",
       "    }\n",
       "</style>\n",
       "<table border=\"1\" class=\"dataframe\">\n",
       "  <thead>\n",
       "    <tr style=\"text-align: right;\">\n",
       "      <th></th>\n",
       "      <th>capacity_mw</th>\n",
       "      <th>latitude</th>\n",
       "      <th>longitude</th>\n",
       "      <th>primary_fuel</th>\n",
       "      <th>commissioning_year</th>\n",
       "      <th>source</th>\n",
       "      <th>geolocation_source</th>\n",
       "      <th>generation_gwh_2013</th>\n",
       "      <th>generation_gwh_2014</th>\n",
       "      <th>generation_gwh_2015</th>\n",
       "      <th>generation_gwh_2016</th>\n",
       "      <th>generation_gwh_2017</th>\n",
       "    </tr>\n",
       "  </thead>\n",
       "  <tbody>\n",
       "    <tr>\n",
       "      <th>0</th>\n",
       "      <td>2.5</td>\n",
       "      <td>28.1839</td>\n",
       "      <td>73.2407</td>\n",
       "      <td>Solar</td>\n",
       "      <td>2011.0</td>\n",
       "      <td>National Renewable Energy Laboratory</td>\n",
       "      <td>National Renewable Energy Laboratory</td>\n",
       "      <td>60.000000</td>\n",
       "      <td>60.000000</td>\n",
       "      <td>60.000</td>\n",
       "      <td>60.000000</td>\n",
       "      <td>60.000000</td>\n",
       "    </tr>\n",
       "    <tr>\n",
       "      <th>1</th>\n",
       "      <td>98.0</td>\n",
       "      <td>24.7663</td>\n",
       "      <td>74.6090</td>\n",
       "      <td>Coal</td>\n",
       "      <td>60.0</td>\n",
       "      <td>Ultratech Cement ltd</td>\n",
       "      <td>WRI</td>\n",
       "      <td>60.000000</td>\n",
       "      <td>60.000000</td>\n",
       "      <td>60.000</td>\n",
       "      <td>60.000000</td>\n",
       "      <td>60.000000</td>\n",
       "    </tr>\n",
       "    <tr>\n",
       "      <th>2</th>\n",
       "      <td>39.2</td>\n",
       "      <td>21.9038</td>\n",
       "      <td>69.3732</td>\n",
       "      <td>Wind</td>\n",
       "      <td>60.0</td>\n",
       "      <td>CDM</td>\n",
       "      <td>WRI</td>\n",
       "      <td>60.000000</td>\n",
       "      <td>60.000000</td>\n",
       "      <td>60.000</td>\n",
       "      <td>60.000000</td>\n",
       "      <td>60.000000</td>\n",
       "    </tr>\n",
       "    <tr>\n",
       "      <th>3</th>\n",
       "      <td>135.0</td>\n",
       "      <td>23.8712</td>\n",
       "      <td>91.3602</td>\n",
       "      <td>Gas</td>\n",
       "      <td>2004.0</td>\n",
       "      <td>Central Electricity Authority</td>\n",
       "      <td>WRI</td>\n",
       "      <td>631.777928</td>\n",
       "      <td>617.789264</td>\n",
       "      <td>843.747</td>\n",
       "      <td>886.004428</td>\n",
       "      <td>663.774500</td>\n",
       "    </tr>\n",
       "    <tr>\n",
       "      <th>4</th>\n",
       "      <td>1800.0</td>\n",
       "      <td>21.9603</td>\n",
       "      <td>82.4091</td>\n",
       "      <td>Coal</td>\n",
       "      <td>2015.0</td>\n",
       "      <td>Central Electricity Authority</td>\n",
       "      <td>WRI</td>\n",
       "      <td>1668.290000</td>\n",
       "      <td>3035.550000</td>\n",
       "      <td>5916.370</td>\n",
       "      <td>6243.000000</td>\n",
       "      <td>5385.579736</td>\n",
       "    </tr>\n",
       "  </tbody>\n",
       "</table>\n",
       "</div>"
      ],
      "text/plain": [
       "   capacity_mw  latitude  longitude primary_fuel  commissioning_year  \\\n",
       "0          2.5   28.1839    73.2407        Solar              2011.0   \n",
       "1         98.0   24.7663    74.6090         Coal                60.0   \n",
       "2         39.2   21.9038    69.3732         Wind                60.0   \n",
       "3        135.0   23.8712    91.3602          Gas              2004.0   \n",
       "4       1800.0   21.9603    82.4091         Coal              2015.0   \n",
       "\n",
       "                                 source                    geolocation_source  \\\n",
       "0  National Renewable Energy Laboratory  National Renewable Energy Laboratory   \n",
       "1                  Ultratech Cement ltd                                   WRI   \n",
       "2                                   CDM                                   WRI   \n",
       "3         Central Electricity Authority                                   WRI   \n",
       "4         Central Electricity Authority                                   WRI   \n",
       "\n",
       "   generation_gwh_2013  generation_gwh_2014  generation_gwh_2015  \\\n",
       "0            60.000000            60.000000               60.000   \n",
       "1            60.000000            60.000000               60.000   \n",
       "2            60.000000            60.000000               60.000   \n",
       "3           631.777928           617.789264              843.747   \n",
       "4          1668.290000          3035.550000             5916.370   \n",
       "\n",
       "   generation_gwh_2016  generation_gwh_2017  \n",
       "0            60.000000            60.000000  \n",
       "1            60.000000            60.000000  \n",
       "2            60.000000            60.000000  \n",
       "3           886.004428           663.774500  \n",
       "4          6243.000000          5385.579736  "
      ]
     },
     "execution_count": 35,
     "metadata": {},
     "output_type": "execute_result"
    }
   ],
   "source": [
    "df.head()"
   ]
  },
  {
   "cell_type": "code",
   "execution_count": 36,
   "id": "07b94774",
   "metadata": {},
   "outputs": [],
   "source": [
    "dfcorr=df.corr()"
   ]
  },
  {
   "cell_type": "code",
   "execution_count": 37,
   "id": "383afd80",
   "metadata": {},
   "outputs": [
    {
     "data": {
      "text/plain": [
       "<AxesSubplot:>"
      ]
     },
     "execution_count": 37,
     "metadata": {},
     "output_type": "execute_result"
    },
    {
     "data": {
      "image/png": "[encoded data removed]",
      "text/plain": [
       "<Figure size 432x288 with 2 Axes>"
      ]
     },
     "metadata": {},
     "output_type": "display_data"
    }
   ],
   "source": [
    "sns.heatmap(dfcorr,annot=True, linewidth=1)"
   ]
  },
  {
   "cell_type": "markdown",
   "id": "820b5c45",
   "metadata": {},
   "source": [
    "* Here we can notice generation_gwh_2013,...2014,....2015,...2016 ,...2017 are positively correlated to capacity_mw and latitude is negative correlated"
   ]
  },
  {
   "cell_type": "code",
   "execution_count": 38,
   "id": "a3962157",
   "metadata": {},
   "outputs": [
    {
     "data": {
      "text/plain": [
       "<AxesSubplot:xlabel='capacity_mw', ylabel='generation_gwh_2013'>"
      ]
     },
     "execution_count": 38,
     "metadata": {},
     "output_type": "execute_result"
    },
    {
     "data": {
      "image/png": "[encoded data removed]",
      "text/plain": [
       "<Figure size 576x288 with 1 Axes>"
      ]
     },
     "metadata": {},
     "output_type": "display_data"
    }
   ],
   "source": [
    "plt.figure(figsize=(8,4))\n",
    "sns.scatterplot(x='capacity_mw',y='generation_gwh_2013',data=df)"
   ]
  },
  {
   "cell_type": "markdown",
   "id": "8a143f35",
   "metadata": {},
   "source": [
    "* we can notice here as electricity generation in gigawatt-hour increasing also increasing the no of electrical generating capacity in megawatts in 2013"
   ]
  },
  {
   "cell_type": "code",
   "execution_count": 39,
   "id": "21da4515",
   "metadata": {},
   "outputs": [
    {
     "data": {
      "text/plain": [
       "<AxesSubplot:xlabel='capacity_mw', ylabel='generation_gwh_2014'>"
      ]
     },
     "execution_count": 39,
     "metadata": {},
     "output_type": "execute_result"
    },
    {
     "data": {
      "image/png": "[encoded data removed]",
      "text/plain": [
       "<Figure size 576x288 with 1 Axes>"
      ]
     },
     "metadata": {},
     "output_type": "display_data"
    }
   ],
   "source": [
    "plt.figure(figsize=(8,4))\n",
    "sns.scatterplot(x='capacity_mw',y='generation_gwh_2014',data=df)"
   ]
  },
  {
   "cell_type": "markdown",
   "id": "8094090a",
   "metadata": {},
   "source": [
    "* In 2014 we can also notice here as electricity generation in gigawatt-hour increasing also increasing the no of electrical generating capacity in megawatts in 2014"
   ]
  },
  {
   "cell_type": "code",
   "execution_count": 40,
   "id": "43d9a05f",
   "metadata": {},
   "outputs": [
    {
     "data": {
      "text/plain": [
       "<AxesSubplot:xlabel='capacity_mw', ylabel='generation_gwh_2015'>"
      ]
     },
     "execution_count": 40,
     "metadata": {},
     "output_type": "execute_result"
    },
    {
     "data": {
      "image/png": "[encoded data removed]",
      "text/plain": [
       "<Figure size 576x288 with 1 Axes>"
      ]
     },
     "metadata": {},
     "output_type": "display_data"
    }
   ],
   "source": [
    "plt.figure(figsize=(8,4))\n",
    "sns.scatterplot(x='capacity_mw',y='generation_gwh_2015',data=df)"
   ]
  },
  {
   "cell_type": "markdown",
   "id": "089087bf",
   "metadata": {},
   "source": [
    "* In 2015 we can also notice here as electricity generation in gigawatt-hour increasing also increasing the no of electrical generating capacity in megawatts in 2015"
   ]
  },
  {
   "cell_type": "code",
   "execution_count": 42,
   "id": "b5d1876c",
   "metadata": {},
   "outputs": [
    {
     "data": {
      "text/plain": [
       "<AxesSubplot:xlabel='capacity_mw', ylabel='generation_gwh_2016'>"
      ]
     },
     "execution_count": 42,
     "metadata": {},
     "output_type": "execute_result"
    },
    {
     "data": {
      "image/png": "[encoded data removed]",
      "text/plain": [
       "<Figure size 576x288 with 1 Axes>"
      ]
     },
     "metadata": {},
     "output_type": "display_data"
    }
   ],
   "source": [
    "plt.figure(figsize=(8,4))\n",
    "sns.scatterplot(x='capacity_mw',y='generation_gwh_2016',data=df)"
   ]
  },
  {
   "cell_type": "markdown",
   "id": "327b30d1",
   "metadata": {},
   "source": [
    "* In 2016 we can also notice here as electricity generation in gigawatt-hour increasing also increasing the no of electrical generating capacity in megawatts in 2016"
   ]
  },
  {
   "cell_type": "code",
   "execution_count": 43,
   "id": "03cb65ce",
   "metadata": {},
   "outputs": [
    {
     "data": {
      "text/plain": [
       "<AxesSubplot:xlabel='capacity_mw', ylabel='generation_gwh_2017'>"
      ]
     },
     "execution_count": 43,
     "metadata": {},
     "output_type": "execute_result"
    },
    {
     "data": {
      "image/png": "[encoded data removed]",
      "text/plain": [
       "<Figure size 576x288 with 1 Axes>"
      ]
     },
     "metadata": {},
     "output_type": "display_data"
    }
   ],
   "source": [
    "plt.figure(figsize=(8,4))\n",
    "sns.scatterplot(x='capacity_mw',y='generation_gwh_2017',data=df)"
   ]
  },
  {
   "cell_type": "markdown",
   "id": "88f89a93",
   "metadata": {},
   "source": [
    "* In 2017 we can also notice here as electricity generation in gigawatt-hour increasing also increasing the no of electrical generating capacity in megawatts in 2017"
   ]
  },
  {
   "cell_type": "code",
   "execution_count": 44,
   "id": "bc7c87c2",
   "metadata": {},
   "outputs": [
    {
     "data": {
      "text/plain": [
       "<AxesSubplot:xlabel='capacity_mw', ylabel='latitude'>"
      ]
     },
     "execution_count": 44,
     "metadata": {},
     "output_type": "execute_result"
    },
    {
     "data": {
      "image/png": "[encoded data removed]",
      "text/plain": [
       "<Figure size 576x288 with 1 Axes>"
      ]
     },
     "metadata": {},
     "output_type": "display_data"
    }
   ],
   "source": [
    "plt.figure(figsize=(8,4))\n",
    "sns.scatterplot(x='capacity_mw',y='latitude',data=df)"
   ]
  },
  {
   "cell_type": "code",
   "execution_count": 45,
   "id": "d960a2ee",
   "metadata": {},
   "outputs": [
    {
     "data": {
      "text/plain": [
       "<AxesSubplot:xlabel='primary_fuel', ylabel='generation_gwh_2013'>"
      ]
     },
     "execution_count": 45,
     "metadata": {},
     "output_type": "execute_result"
    },
    {
     "data": {
      "image/png": "[encoded data removed]",
      "text/plain": [
       "<Figure size 576x288 with 1 Axes>"
      ]
     },
     "metadata": {},
     "output_type": "display_data"
    }
   ],
   "source": [
    "plt.figure(figsize=(8,4))\n",
    "sns.scatterplot(x='primary_fuel',y='generation_gwh_2013',data=df)"
   ]
  },
  {
   "cell_type": "markdown",
   "id": "1bfd08dc",
   "metadata": {},
   "source": [
    "* we can here the coal is most used fuel in 2013 and Nuclear,Gas and hydro on average use and Solar,Wind Bomass nad oil was very less used"
   ]
  },
  {
   "cell_type": "code",
   "execution_count": 46,
   "id": "0db90dab",
   "metadata": {},
   "outputs": [
    {
     "data": {
      "text/plain": [
       "<AxesSubplot:xlabel='primary_fuel', ylabel='generation_gwh_2014'>"
      ]
     },
     "execution_count": 46,
     "metadata": {},
     "output_type": "execute_result"
    },
    {
     "data": {
      "image/png": "[encoded data removed]",
      "text/plain": [
       "<Figure size 576x288 with 1 Axes>"
      ]
     },
     "metadata": {},
     "output_type": "display_data"
    }
   ],
   "source": [
    "plt.figure(figsize=(8,4))\n",
    "sns.scatterplot(x='primary_fuel',y='generation_gwh_2014',data=df)"
   ]
  },
  {
   "cell_type": "code",
   "execution_count": 47,
   "id": "d010a5ca",
   "metadata": {},
   "outputs": [
    {
     "data": {
      "text/plain": [
       "<AxesSubplot:xlabel='primary_fuel', ylabel='generation_gwh_2015'>"
      ]
     },
     "execution_count": 47,
     "metadata": {},
     "output_type": "execute_result"
    },
    {
     "data": {
      "image/png": "[encoded data removed]",
      "text/plain": [
       "<Figure size 576x288 with 1 Axes>"
      ]
     },
     "metadata": {},
     "output_type": "display_data"
    }
   ],
   "source": [
    "plt.figure(figsize=(8,4))\n",
    "sns.scatterplot(x='primary_fuel',y='generation_gwh_2015',data=df)"
   ]
  },
  {
   "cell_type": "code",
   "execution_count": 48,
   "id": "4d56816a",
   "metadata": {},
   "outputs": [
    {
     "data": {
      "text/plain": [
       "<AxesSubplot:xlabel='primary_fuel', ylabel='generation_gwh_2016'>"
      ]
     },
     "execution_count": 48,
     "metadata": {},
     "output_type": "execute_result"
    },
    {
     "data": {
      "image/png": "[encoded data removed]",
      "text/plain": [
       "<Figure size 576x288 with 1 Axes>"
      ]
     },
     "metadata": {},
     "output_type": "display_data"
    }
   ],
   "source": [
    "plt.figure(figsize=(8,4))\n",
    "sns.scatterplot(x='primary_fuel',y='generation_gwh_2016',data=df)"
   ]
  },
  {
   "cell_type": "code",
   "execution_count": 49,
   "id": "d499a7d2",
   "metadata": {},
   "outputs": [
    {
     "data": {
      "text/plain": [
       "<AxesSubplot:xlabel='primary_fuel', ylabel='generation_gwh_2017'>"
      ]
     },
     "execution_count": 49,
     "metadata": {},
     "output_type": "execute_result"
    },
    {
     "data": {
      "image/png": "[encoded data removed]",
      "text/plain": [
       "<Figure size 576x288 with 1 Axes>"
      ]
     },
     "metadata": {},
     "output_type": "display_data"
    }
   ],
   "source": [
    "plt.figure(figsize=(8,4))\n",
    "sns.scatterplot(x='primary_fuel',y='generation_gwh_2017',data=df)"
   ]
  },
  {
   "cell_type": "markdown",
   "id": "1fc927f1",
   "metadata": {},
   "source": [
    "##### In all of the year 2013 to 2017 the coal is most used fuel in 2013 and Nuclear,Gas and hydro on average use and Solar,Wind Biomass and oil was very less used."
   ]
  },
  {
   "cell_type": "code",
   "execution_count": 50,
   "id": "d6abb053",
   "metadata": {},
   "outputs": [
    {
     "data": {
      "text/plain": [
       "<AxesSubplot:xlabel='primary_fuel', ylabel='latitude'>"
      ]
     },
     "execution_count": 50,
     "metadata": {},
     "output_type": "execute_result"
    },
    {
     "data": {
      "image/png": "[encoded data removed]",
      "text/plain": [
       "<Figure size 576x288 with 1 Axes>"
      ]
     },
     "metadata": {},
     "output_type": "display_data"
    }
   ],
   "source": [
    "plt.figure(figsize=(8,4))\n",
    "sns.scatterplot(x='primary_fuel',y='latitude',data=df)"
   ]
  },
  {
   "cell_type": "markdown",
   "id": "559a86c5",
   "metadata": {},
   "source": [
    "* Coal is on max electrical generating capacity in megawatts"
   ]
  },
  {
   "cell_type": "markdown",
   "id": "d9ef66da",
   "metadata": {},
   "source": [
    "#### Using LabelEncoder for convering categorical to numerical"
   ]
  },
  {
   "cell_type": "code",
   "execution_count": 51,
   "id": "50b5b737",
   "metadata": {},
   "outputs": [
    {
     "name": "stdout",
     "output_type": "stream",
     "text": [
      "<class 'pandas.core.frame.DataFrame'>\n",
      "RangeIndex: 908 entries, 0 to 907\n",
      "Data columns (total 12 columns):\n",
      " #   Column               Non-Null Count  Dtype  \n",
      "---  ------               --------------  -----  \n",
      " 0   capacity_mw          908 non-null    float64\n",
      " 1   latitude             908 non-null    float64\n",
      " 2   longitude            908 non-null    float64\n",
      " 3   primary_fuel         908 non-null    object \n",
      " 4   commissioning_year   908 non-null    float64\n",
      " 5   source               908 non-null    object \n",
      " 6   geolocation_source   908 non-null    object \n",
      " 7   generation_gwh_2013  908 non-null    float64\n",
      " 8   generation_gwh_2014  908 non-null    float64\n",
      " 9   generation_gwh_2015  908 non-null    float64\n",
      " 10  generation_gwh_2016  908 non-null    float64\n",
      " 11  generation_gwh_2017  908 non-null    float64\n",
      "dtypes: float64(9), object(3)\n",
      "memory usage: 85.2+ KB\n"
     ]
    }
   ],
   "source": [
    "df.info()"
   ]
  },
  {
   "cell_type": "code",
   "execution_count": 52,
   "id": "8c879a92",
   "metadata": {},
   "outputs": [],
   "source": [
    "from sklearn.preprocessing import LabelEncoder"
   ]
  },
  {
   "cell_type": "code",
   "execution_count": 53,
   "id": "b1dd0a3a",
   "metadata": {},
   "outputs": [
    {
     "data": {
      "text/plain": [
       "array(['Solar', 'Coal', 'Wind', 'Gas', 'Hydro', 'Biomass', 'Oil',\n",
       "       'Nuclear'], dtype=object)"
      ]
     },
     "execution_count": 53,
     "metadata": {},
     "output_type": "execute_result"
    }
   ],
   "source": [
    "df['primary_fuel'].unique()"
   ]
  },
  {
   "cell_type": "code",
   "execution_count": 54,
   "id": "d14303f1",
   "metadata": {},
   "outputs": [
    {
     "data": {
      "text/plain": [
       "array(['National Renewable Energy Laboratory', 'WRI', 'Industry About'],\n",
       "      dtype=object)"
      ]
     },
     "execution_count": 54,
     "metadata": {},
     "output_type": "execute_result"
    }
   ],
   "source": [
    "df['geolocation_source'].unique()"
   ]
  },
  {
   "cell_type": "code",
   "execution_count": 55,
   "id": "7ec67f7f",
   "metadata": {},
   "outputs": [],
   "source": [
    "encoder = LabelEncoder()\n",
    "df['primary_fuel'] = encoder.fit_transform(df['primary_fuel'])\n",
    "df['geolocation_source'] = encoder.fit_transform(df['geolocation_source'])\n",
    "df['source'] = encoder.fit_transform(df['source'])"
   ]
  },
  {
   "cell_type": "code",
   "execution_count": 56,
   "id": "a04ffb04",
   "metadata": {},
   "outputs": [
    {
     "data": {
      "text/plain": [
       "array([1, 2, 0])"
      ]
     },
     "execution_count": 56,
     "metadata": {},
     "output_type": "execute_result"
    }
   ],
   "source": [
    "df['geolocation_source'].unique()\n"
   ]
  },
  {
   "cell_type": "code",
   "execution_count": 57,
   "id": "56b94cf0",
   "metadata": {},
   "outputs": [
    {
     "name": "stdout",
     "output_type": "stream",
     "text": [
      "<class 'pandas.core.frame.DataFrame'>\n",
      "RangeIndex: 908 entries, 0 to 907\n",
      "Data columns (total 12 columns):\n",
      " #   Column               Non-Null Count  Dtype  \n",
      "---  ------               --------------  -----  \n",
      " 0   capacity_mw          908 non-null    float64\n",
      " 1   latitude             908 non-null    float64\n",
      " 2   longitude            908 non-null    float64\n",
      " 3   primary_fuel         908 non-null    int32  \n",
      " 4   commissioning_year   908 non-null    float64\n",
      " 5   source               908 non-null    int32  \n",
      " 6   geolocation_source   908 non-null    int32  \n",
      " 7   generation_gwh_2013  908 non-null    float64\n",
      " 8   generation_gwh_2014  908 non-null    float64\n",
      " 9   generation_gwh_2015  908 non-null    float64\n",
      " 10  generation_gwh_2016  908 non-null    float64\n",
      " 11  generation_gwh_2017  908 non-null    float64\n",
      "dtypes: float64(9), int32(3)\n",
      "memory usage: 74.6 KB\n"
     ]
    }
   ],
   "source": [
    "df.info()"
   ]
  },
  {
   "cell_type": "markdown",
   "id": "0f34bb04",
   "metadata": {},
   "source": [
    "### outliers removal"
   ]
  },
  {
   "cell_type": "markdown",
   "id": "4130a265",
   "metadata": {},
   "source": [
    "#### zscore"
   ]
  },
  {
   "cell_type": "code",
   "execution_count": 58,
   "id": "545c94cb",
   "metadata": {},
   "outputs": [
    {
     "name": "stdout",
     "output_type": "stream",
     "text": [
      "(array([ 15,  15,  15,  15, 144, 144, 144, 144, 144, 144, 159, 159, 210,\n",
      "       210, 210, 210, 210, 210, 309, 309, 309, 309, 309, 309, 364, 365,\n",
      "       365, 365, 365, 365, 365, 376, 483, 494, 494, 494, 494, 494, 494,\n",
      "       495, 495, 495, 495, 495, 495, 533, 533, 624, 649, 649, 649, 649,\n",
      "       649, 649, 658, 658, 658, 658, 658, 658, 696, 696, 696, 696, 696,\n",
      "       722, 722, 722, 722, 722, 725, 725, 725, 725, 725, 727, 727, 727,\n",
      "       727, 727, 727, 787, 787, 787, 787, 787, 787, 789, 809, 809, 809,\n",
      "       809, 809, 809, 881, 881, 881, 881, 881, 881], dtype=int64), array([2, 3, 4, 5, 0, 1, 2, 3, 4, 5, 0, 1, 0, 1, 2, 3, 4, 5, 0, 1, 2, 3,\n",
      "       4, 5, 5, 0, 1, 2, 3, 4, 5, 5, 5, 0, 1, 2, 3, 4, 5, 0, 1, 2, 3, 4,\n",
      "       5, 0, 1, 1, 0, 1, 2, 3, 4, 5, 0, 1, 2, 3, 4, 5, 1, 2, 3, 4, 5, 0,\n",
      "       1, 2, 3, 4, 0, 1, 2, 3, 4, 0, 1, 2, 3, 4, 5, 0, 1, 2, 3, 4, 5, 5,\n",
      "       0, 1, 2, 3, 4, 5, 0, 1, 2, 3, 4, 5], dtype=int64))\n"
     ]
    }
   ],
   "source": [
    "from scipy.stats import zscore\n",
    "\n",
    "z=np.abs(zscore(df[['generation_gwh_2013','generation_gwh_2014','generation_gwh_2015','generation_gwh_2016','generation_gwh_2017','capacity_mw']]))\n",
    "print(np.where(z>3))"
   ]
  },
  {
   "cell_type": "code",
   "execution_count": 59,
   "id": "7bd7ab93",
   "metadata": {},
   "outputs": [
    {
     "name": "stdout",
     "output_type": "stream",
     "text": [
      "Shape of the dataframe before removing outliers:  (908, 12)\n",
      "Shape of the dataframe after removing outliers:  (885, 12)\n",
      "Percentage of data loss post outlier removal:  2.5330396475770924\n"
     ]
    }
   ],
   "source": [
    "z = np.abs(zscore(df[['generation_gwh_2013','generation_gwh_2014','generation_gwh_2015','generation_gwh_2016','generation_gwh_2017','capacity_mw']]))\n",
    "threshold = 3\n",
    "df1 = df[(z<3).all(axis = 1)]\n",
    "\n",
    "print (\"Shape of the dataframe before removing outliers: \", df.shape)\n",
    "print (\"Shape of the dataframe after removing outliers: \", df1.shape)\n",
    "print (\"Percentage of data loss post outlier removal: \", (df.shape[0]-df1.shape[0])/df.shape[0]*100)\n",
    "\n",
    "df=df1.copy() # reassigning the changed dataframe name to our original dataframe name"
   ]
  },
  {
   "cell_type": "code",
   "execution_count": 60,
   "id": "95861f40",
   "metadata": {},
   "outputs": [
    {
     "data": {
      "text/plain": [
       "(885, 12)"
      ]
     },
     "execution_count": 60,
     "metadata": {},
     "output_type": "execute_result"
    }
   ],
   "source": [
    "df.shape"
   ]
  },
  {
   "cell_type": "markdown",
   "id": "d3f2fb87",
   "metadata": {},
   "source": [
    "### Skewness Handling"
   ]
  },
  {
   "cell_type": "code",
   "execution_count": 61,
   "id": "5ae208d2",
   "metadata": {},
   "outputs": [
    {
     "data": {
      "image/png": "[encoded data removed]",
      "text/plain": [
       "<Figure size 1296x1440 with 12 Axes>"
      ]
     },
     "metadata": {},
     "output_type": "display_data"
    }
   ],
   "source": [
    "plt.figure(figsize=(18,20))\n",
    "for i in enumerate(df):\n",
    "    plt.subplot(8,4,i[0]+1)\n",
    "    sns.distplot(df[i[1]],color='g')"
   ]
  },
  {
   "cell_type": "code",
   "execution_count": 62,
   "id": "7074ea74",
   "metadata": {},
   "outputs": [
    {
     "data": {
      "text/plain": [
       "capacity_mw            2.052718\n",
       "latitude               1.965094\n",
       "longitude             -0.179399\n",
       "primary_fuel           0.430662\n",
       "commissioning_year    -0.285274\n",
       "source                 1.788010\n",
       "geolocation_source    -2.118329\n",
       "generation_gwh_2013    2.994575\n",
       "generation_gwh_2014    2.867788\n",
       "generation_gwh_2015    2.684811\n",
       "generation_gwh_2016    2.630710\n",
       "generation_gwh_2017    2.540274\n",
       "dtype: float64"
      ]
     },
     "execution_count": 62,
     "metadata": {},
     "output_type": "execute_result"
    }
   ],
   "source": [
    "df.skew()"
   ]
  },
  {
   "cell_type": "markdown",
   "id": "4825fa1b",
   "metadata": {},
   "source": [
    "* skewness more than+/- 0.5 will we treated\n",
    "\n",
    "* object columns will no be treated"
   ]
  },
  {
   "cell_type": "code",
   "execution_count": 63,
   "id": "2d3eb807",
   "metadata": {},
   "outputs": [],
   "source": [
    "from sklearn.preprocessing import power_transform\n",
    "\n",
    "df[['capacity_mw',\"generation_gwh_2013\",'generation_gwh_2014','generation_gwh_2015','generation_gwh_2016','generation_gwh_2017']]=power_transform(df[['capacity_mw',\"generation_gwh_2013\",'generation_gwh_2014','generation_gwh_2015','generation_gwh_2016','generation_gwh_2017']])"
   ]
  },
  {
   "cell_type": "code",
   "execution_count": 64,
   "id": "65f5c0e3",
   "metadata": {},
   "outputs": [
    {
     "data": {
      "text/plain": [
       "capacity_mw            0.014952\n",
       "latitude               1.965094\n",
       "longitude             -0.179399\n",
       "primary_fuel           0.430662\n",
       "commissioning_year    -0.285274\n",
       "source                 1.788010\n",
       "geolocation_source    -2.118329\n",
       "generation_gwh_2013   -0.034887\n",
       "generation_gwh_2014   -0.014669\n",
       "generation_gwh_2015   -0.012333\n",
       "generation_gwh_2016   -0.009262\n",
       "generation_gwh_2017   -0.005003\n",
       "dtype: float64"
      ]
     },
     "execution_count": 64,
     "metadata": {},
     "output_type": "execute_result"
    }
   ],
   "source": [
    "df.skew()"
   ]
  },
  {
   "cell_type": "code",
   "execution_count": 65,
   "id": "498daf8a",
   "metadata": {},
   "outputs": [
    {
     "data": {
      "text/plain": [
       "capacity_mw            0\n",
       "latitude               0\n",
       "longitude              0\n",
       "primary_fuel           0\n",
       "commissioning_year     0\n",
       "source                 0\n",
       "geolocation_source     0\n",
       "generation_gwh_2013    0\n",
       "generation_gwh_2014    0\n",
       "generation_gwh_2015    0\n",
       "generation_gwh_2016    0\n",
       "generation_gwh_2017    0\n",
       "dtype: int64"
      ]
     },
     "execution_count": 65,
     "metadata": {},
     "output_type": "execute_result"
    }
   ],
   "source": [
    "pd.DataFrame(df).isnull().sum()"
   ]
  },
  {
   "cell_type": "markdown",
   "id": "f6a28dd3",
   "metadata": {},
   "source": [
    "### First taking 'capacity_mw' as target creating Regression model"
   ]
  },
  {
   "cell_type": "markdown",
   "id": "3a96ad8d",
   "metadata": {},
   "source": [
    "#### Dividing data into X and Y"
   ]
  },
  {
   "cell_type": "code",
   "execution_count": 66,
   "id": "cbe9c8ae",
   "metadata": {},
   "outputs": [],
   "source": [
    "x=df.drop(['capacity_mw'],axis=1)\n",
    "y=df['capacity_mw']"
   ]
  },
  {
   "cell_type": "code",
   "execution_count": 67,
   "id": "64e9f7dc",
   "metadata": {},
   "outputs": [
    {
     "data": {
      "text/plain": [
       "(885, 11)"
      ]
     },
     "execution_count": 67,
     "metadata": {},
     "output_type": "execute_result"
    }
   ],
   "source": [
    "x.shape"
   ]
  },
  {
   "cell_type": "code",
   "execution_count": 68,
   "id": "89c7297d",
   "metadata": {},
   "outputs": [
    {
     "data": {
      "text/plain": [
       "(885,)"
      ]
     },
     "execution_count": 68,
     "metadata": {},
     "output_type": "execute_result"
    }
   ],
   "source": [
    "y.shape"
   ]
  },
  {
   "cell_type": "markdown",
   "id": "3fbbbaac",
   "metadata": {},
   "source": [
    "#### scaling X values"
   ]
  },
  {
   "cell_type": "code",
   "execution_count": 69,
   "id": "920cbb9c",
   "metadata": {},
   "outputs": [],
   "source": [
    "from sklearn.preprocessing import MinMaxScaler\n",
    "\n",
    "sc=MinMaxScaler()\n",
    "x=sc.fit_transform(x)"
   ]
  },
  {
   "cell_type": "code",
   "execution_count": 70,
   "id": "a79fefeb",
   "metadata": {},
   "outputs": [
    {
     "data": {
      "text/plain": [
       "0     0\n",
       "1     0\n",
       "2     0\n",
       "3     0\n",
       "4     0\n",
       "5     0\n",
       "6     0\n",
       "7     0\n",
       "8     0\n",
       "9     0\n",
       "10    0\n",
       "dtype: int64"
      ]
     },
     "execution_count": 70,
     "metadata": {},
     "output_type": "execute_result"
    }
   ],
   "source": [
    "pd.DataFrame(x).isnull().sum()"
   ]
  },
  {
   "cell_type": "code",
   "execution_count": 71,
   "id": "4deeedaf",
   "metadata": {},
   "outputs": [
    {
     "data": {
      "text/html": [
       "<div>\n",
       "<style scoped>\n",
       "    .dataframe tbody tr th:only-of-type {\n",
       "        vertical-align: middle;\n",
       "    }\n",
       "\n",
       "    .dataframe tbody tr th {\n",
       "        vertical-align: top;\n",
       "    }\n",
       "\n",
       "    .dataframe thead th {\n",
       "        text-align: right;\n",
       "    }\n",
       "</style>\n",
       "<table border=\"1\" class=\"dataframe\">\n",
       "  <thead>\n",
       "    <tr style=\"text-align: right;\">\n",
       "      <th></th>\n",
       "      <th>0</th>\n",
       "      <th>1</th>\n",
       "      <th>2</th>\n",
       "      <th>3</th>\n",
       "      <th>4</th>\n",
       "      <th>5</th>\n",
       "      <th>6</th>\n",
       "      <th>7</th>\n",
       "      <th>8</th>\n",
       "      <th>9</th>\n",
       "      <th>10</th>\n",
       "    </tr>\n",
       "  </thead>\n",
       "  <tbody>\n",
       "    <tr>\n",
       "      <th>count</th>\n",
       "      <td>885.000000</td>\n",
       "      <td>885.000000</td>\n",
       "      <td>885.000000</td>\n",
       "      <td>885.000000</td>\n",
       "      <td>885.000000</td>\n",
       "      <td>885.000000</td>\n",
       "      <td>885.000000</td>\n",
       "      <td>885.000000</td>\n",
       "      <td>885.000000</td>\n",
       "      <td>885.000000</td>\n",
       "      <td>885.000000</td>\n",
       "    </tr>\n",
       "    <tr>\n",
       "      <th>mean</th>\n",
       "      <td>0.290048</td>\n",
       "      <td>0.464901</td>\n",
       "      <td>0.466182</td>\n",
       "      <td>0.564383</td>\n",
       "      <td>0.233637</td>\n",
       "      <td>0.863277</td>\n",
       "      <td>0.591291</td>\n",
       "      <td>0.568494</td>\n",
       "      <td>0.568932</td>\n",
       "      <td>0.566561</td>\n",
       "      <td>0.565028</td>\n",
       "    </tr>\n",
       "    <tr>\n",
       "      <th>std</th>\n",
       "      <td>0.204202</td>\n",
       "      <td>0.173085</td>\n",
       "      <td>0.326078</td>\n",
       "      <td>0.489898</td>\n",
       "      <td>0.237158</td>\n",
       "      <td>0.342100</td>\n",
       "      <td>0.183883</td>\n",
       "      <td>0.196731</td>\n",
       "      <td>0.200379</td>\n",
       "      <td>0.202994</td>\n",
       "      <td>0.210328</td>\n",
       "    </tr>\n",
       "    <tr>\n",
       "      <th>min</th>\n",
       "      <td>0.000000</td>\n",
       "      <td>0.000000</td>\n",
       "      <td>0.000000</td>\n",
       "      <td>0.000000</td>\n",
       "      <td>0.000000</td>\n",
       "      <td>0.000000</td>\n",
       "      <td>0.000000</td>\n",
       "      <td>0.000000</td>\n",
       "      <td>0.000000</td>\n",
       "      <td>0.000000</td>\n",
       "      <td>0.000000</td>\n",
       "    </tr>\n",
       "    <tr>\n",
       "      <th>25%</th>\n",
       "      <td>0.169119</td>\n",
       "      <td>0.388333</td>\n",
       "      <td>0.142857</td>\n",
       "      <td>0.000000</td>\n",
       "      <td>0.115789</td>\n",
       "      <td>1.000000</td>\n",
       "      <td>0.504674</td>\n",
       "      <td>0.478042</td>\n",
       "      <td>0.477061</td>\n",
       "      <td>0.470282</td>\n",
       "      <td>0.465067</td>\n",
       "    </tr>\n",
       "    <tr>\n",
       "      <th>50%</th>\n",
       "      <td>0.269591</td>\n",
       "      <td>0.463212</td>\n",
       "      <td>0.428571</td>\n",
       "      <td>0.978039</td>\n",
       "      <td>0.115789</td>\n",
       "      <td>1.000000</td>\n",
       "      <td>0.504674</td>\n",
       "      <td>0.478042</td>\n",
       "      <td>0.477061</td>\n",
       "      <td>0.470282</td>\n",
       "      <td>0.465067</td>\n",
       "    </tr>\n",
       "    <tr>\n",
       "      <th>75%</th>\n",
       "      <td>0.359508</td>\n",
       "      <td>0.539802</td>\n",
       "      <td>0.857143</td>\n",
       "      <td>0.991828</td>\n",
       "      <td>0.184211</td>\n",
       "      <td>1.000000</td>\n",
       "      <td>0.710270</td>\n",
       "      <td>0.700391</td>\n",
       "      <td>0.703337</td>\n",
       "      <td>0.699987</td>\n",
       "      <td>0.703190</td>\n",
       "    </tr>\n",
       "    <tr>\n",
       "      <th>max</th>\n",
       "      <td>1.000000</td>\n",
       "      <td>1.000000</td>\n",
       "      <td>1.000000</td>\n",
       "      <td>1.000000</td>\n",
       "      <td>1.000000</td>\n",
       "      <td>1.000000</td>\n",
       "      <td>1.000000</td>\n",
       "      <td>1.000000</td>\n",
       "      <td>1.000000</td>\n",
       "      <td>1.000000</td>\n",
       "      <td>1.000000</td>\n",
       "    </tr>\n",
       "  </tbody>\n",
       "</table>\n",
       "</div>"
      ],
      "text/plain": [
       "               0           1           2           3           4           5   \\\n",
       "count  885.000000  885.000000  885.000000  885.000000  885.000000  885.000000   \n",
       "mean     0.290048    0.464901    0.466182    0.564383    0.233637    0.863277   \n",
       "std      0.204202    0.173085    0.326078    0.489898    0.237158    0.342100   \n",
       "min      0.000000    0.000000    0.000000    0.000000    0.000000    0.000000   \n",
       "25%      0.169119    0.388333    0.142857    0.000000    0.115789    1.000000   \n",
       "50%      0.269591    0.463212    0.428571    0.978039    0.115789    1.000000   \n",
       "75%      0.359508    0.539802    0.857143    0.991828    0.184211    1.000000   \n",
       "max      1.000000    1.000000    1.000000    1.000000    1.000000    1.000000   \n",
       "\n",
       "               6           7           8           9           10  \n",
       "count  885.000000  885.000000  885.000000  885.000000  885.000000  \n",
       "mean     0.591291    0.568494    0.568932    0.566561    0.565028  \n",
       "std      0.183883    0.196731    0.200379    0.202994    0.210328  \n",
       "min      0.000000    0.000000    0.000000    0.000000    0.000000  \n",
       "25%      0.504674    0.478042    0.477061    0.470282    0.465067  \n",
       "50%      0.504674    0.478042    0.477061    0.470282    0.465067  \n",
       "75%      0.710270    0.700391    0.703337    0.699987    0.703190  \n",
       "max      1.000000    1.000000    1.000000    1.000000    1.000000  "
      ]
     },
     "execution_count": 71,
     "metadata": {},
     "output_type": "execute_result"
    }
   ],
   "source": [
    "pd.DataFrame(x).describe()"
   ]
  },
  {
   "cell_type": "markdown",
   "id": "2cd7756a",
   "metadata": {},
   "source": [
    "* data have been scalled"
   ]
  },
  {
   "cell_type": "markdown",
   "id": "5e96a335",
   "metadata": {},
   "source": [
    "### MODEL BUILDING:"
   ]
  },
  {
   "cell_type": "markdown",
   "id": "0356c093",
   "metadata": {},
   "source": [
    "#### Linear Regression"
   ]
  },
  {
   "cell_type": "code",
   "execution_count": 72,
   "id": "e913ce65",
   "metadata": {},
   "outputs": [],
   "source": [
    "from sklearn.metrics import mean_squared_error,mean_absolute_error\n",
    "from sklearn.metrics import r2_score\n",
    "from sklearn.model_selection import train_test_split\n",
    "from sklearn.model_selection import cross_val_score"
   ]
  },
  {
   "cell_type": "markdown",
   "id": "fa8bce3b",
   "metadata": {},
   "source": [
    "#### CHECKING THE BEST RANDOM STATE FOR DATA SPLIT"
   ]
  },
  {
   "cell_type": "code",
   "execution_count": 73,
   "id": "cb30cf3b",
   "metadata": {},
   "outputs": [
    {
     "name": "stdout",
     "output_type": "stream",
     "text": [
      "At random state 0, The training accuracy is: 0.6033793987661354\n",
      "At random state 0, The test accuracy is: 0.6216727027615341\n",
      "\n",
      "\n",
      "At random state 1, The training accuracy is: 0.6083279878933308\n",
      "At random state 1, The test accuracy is: 0.6022223138115208\n",
      "\n",
      "\n",
      "At random state 2, The training accuracy is: 0.6353782409904477\n",
      "At random state 2, The test accuracy is: 0.4688289866613957\n",
      "\n",
      "\n",
      "At random state 3, The training accuracy is: 0.6102288217663278\n",
      "At random state 3, The test accuracy is: 0.5919635215348062\n",
      "\n",
      "\n",
      "At random state 4, The training accuracy is: 0.608802736407805\n",
      "At random state 4, The test accuracy is: 0.5962173327956521\n",
      "\n",
      "\n",
      "At random state 5, The training accuracy is: 0.620339909413044\n",
      "At random state 5, The test accuracy is: 0.5423848089457906\n",
      "\n",
      "\n",
      "At random state 6, The training accuracy is: 0.6179931752699392\n",
      "At random state 6, The test accuracy is: 0.5442706774717503\n",
      "\n",
      "\n",
      "At random state 7, The training accuracy is: 0.6162228512356386\n",
      "At random state 7, The test accuracy is: 0.5570579582338959\n",
      "\n",
      "\n",
      "At random state 8, The training accuracy is: 0.6082824912358737\n",
      "At random state 8, The test accuracy is: 0.601827685501431\n",
      "\n",
      "\n",
      "At random state 9, The training accuracy is: 0.5840394042776538\n",
      "At random state 9, The test accuracy is: 0.6932091521305622\n",
      "\n",
      "\n",
      "At random state 10, The training accuracy is: 0.6156268235038697\n",
      "At random state 10, The test accuracy is: 0.5681217175448019\n",
      "\n",
      "\n",
      "At random state 11, The training accuracy is: 0.60873084331863\n",
      "At random state 11, The test accuracy is: 0.6020801622278834\n",
      "\n",
      "\n",
      "At random state 12, The training accuracy is: 0.6093906103623556\n",
      "At random state 12, The test accuracy is: 0.5898647459198945\n",
      "\n",
      "\n",
      "At random state 13, The training accuracy is: 0.6024473616253625\n",
      "At random state 13, The test accuracy is: 0.6180805141971237\n",
      "\n",
      "\n",
      "At random state 14, The training accuracy is: 0.5973007814044973\n",
      "At random state 14, The test accuracy is: 0.6444523797958339\n",
      "\n",
      "\n",
      "At random state 15, The training accuracy is: 0.6255385488305059\n",
      "At random state 15, The test accuracy is: 0.530339614364826\n",
      "\n",
      "\n",
      "At random state 16, The training accuracy is: 0.6037004352695555\n",
      "At random state 16, The test accuracy is: 0.6179856666202489\n",
      "\n",
      "\n",
      "At random state 17, The training accuracy is: 0.5930683045859398\n",
      "At random state 17, The test accuracy is: 0.6549333612122058\n",
      "\n",
      "\n",
      "At random state 18, The training accuracy is: 0.6225580576052716\n",
      "At random state 18, The test accuracy is: 0.5397158807120762\n",
      "\n",
      "\n",
      "At random state 19, The training accuracy is: 0.612718372139011\n",
      "At random state 19, The test accuracy is: 0.5858875622944951\n",
      "\n",
      "\n",
      "At random state 20, The training accuracy is: 0.6202908958485813\n",
      "At random state 20, The test accuracy is: 0.5377512462054161\n",
      "\n",
      "\n",
      "At random state 21, The training accuracy is: 0.5947786989182554\n",
      "At random state 21, The test accuracy is: 0.6303095544433202\n",
      "\n",
      "\n",
      "At random state 22, The training accuracy is: 0.6309524975133622\n",
      "At random state 22, The test accuracy is: 0.49653033753256814\n",
      "\n",
      "\n",
      "At random state 23, The training accuracy is: 0.6026840761211663\n",
      "At random state 23, The test accuracy is: 0.6176341612982892\n",
      "\n",
      "\n",
      "At random state 24, The training accuracy is: 0.6240450818249281\n",
      "At random state 24, The test accuracy is: 0.5148298944795517\n",
      "\n",
      "\n",
      "At random state 25, The training accuracy is: 0.6089896143710123\n",
      "At random state 25, The test accuracy is: 0.5918643603297424\n",
      "\n",
      "\n",
      "At random state 26, The training accuracy is: 0.6163484085812336\n",
      "At random state 26, The test accuracy is: 0.5587474727215589\n",
      "\n",
      "\n",
      "At random state 27, The training accuracy is: 0.6079460167114077\n",
      "At random state 27, The test accuracy is: 0.603172718397993\n",
      "\n",
      "\n",
      "At random state 28, The training accuracy is: 0.6247353791532108\n",
      "At random state 28, The test accuracy is: 0.5202267927492857\n",
      "\n",
      "\n",
      "At random state 29, The training accuracy is: 0.6027231312432187\n",
      "At random state 29, The test accuracy is: 0.6106322418356641\n",
      "\n",
      "\n",
      "At random state 30, The training accuracy is: 0.6125821763166549\n",
      "At random state 30, The test accuracy is: 0.5819561454816691\n",
      "\n",
      "\n",
      "At random state 31, The training accuracy is: 0.6092736854692166\n",
      "At random state 31, The test accuracy is: 0.5924597235264595\n",
      "\n",
      "\n",
      "At random state 32, The training accuracy is: 0.6138447668099778\n",
      "At random state 32, The test accuracy is: 0.5711358837517913\n",
      "\n",
      "\n",
      "At random state 33, The training accuracy is: 0.5938146276909252\n",
      "At random state 33, The test accuracy is: 0.646471192006671\n",
      "\n",
      "\n",
      "At random state 34, The training accuracy is: 0.6031566203274352\n",
      "At random state 34, The test accuracy is: 0.6162472330589048\n",
      "\n",
      "\n",
      "At random state 35, The training accuracy is: 0.6001502641399883\n",
      "At random state 35, The test accuracy is: 0.6349847854760424\n",
      "\n",
      "\n",
      "At random state 36, The training accuracy is: 0.5969299320988144\n",
      "At random state 36, The test accuracy is: 0.6434861989466665\n",
      "\n",
      "\n",
      "At random state 37, The training accuracy is: 0.6029113305864342\n",
      "At random state 37, The test accuracy is: 0.6240543587964664\n",
      "\n",
      "\n",
      "At random state 38, The training accuracy is: 0.6188710828247678\n",
      "At random state 38, The test accuracy is: 0.5285641135355207\n",
      "\n",
      "\n",
      "At random state 39, The training accuracy is: 0.6042427087975428\n",
      "At random state 39, The test accuracy is: 0.6161749304435776\n",
      "\n",
      "\n",
      "At random state 40, The training accuracy is: 0.6134881155942626\n",
      "At random state 40, The test accuracy is: 0.5791400109888742\n",
      "\n",
      "\n",
      "At random state 41, The training accuracy is: 0.6161553453965085\n",
      "At random state 41, The test accuracy is: 0.562747113513618\n",
      "\n",
      "\n",
      "At random state 42, The training accuracy is: 0.5999515302079873\n",
      "At random state 42, The test accuracy is: 0.634423021265264\n",
      "\n",
      "\n",
      "At random state 43, The training accuracy is: 0.603755020761714\n",
      "At random state 43, The test accuracy is: 0.6182681717895784\n",
      "\n",
      "\n",
      "At random state 44, The training accuracy is: 0.613407096190226\n",
      "At random state 44, The test accuracy is: 0.5755486057231778\n",
      "\n",
      "\n",
      "At random state 45, The training accuracy is: 0.6097042226919098\n",
      "At random state 45, The test accuracy is: 0.5953888673574372\n",
      "\n",
      "\n",
      "At random state 46, The training accuracy is: 0.6241027179114268\n",
      "At random state 46, The test accuracy is: 0.5232959157324684\n",
      "\n",
      "\n",
      "At random state 47, The training accuracy is: 0.6251378893004157\n",
      "At random state 47, The test accuracy is: 0.5071794131351295\n",
      "\n",
      "\n",
      "At random state 48, The training accuracy is: 0.6140547759102248\n",
      "At random state 48, The test accuracy is: 0.5735352336678983\n",
      "\n",
      "\n",
      "At random state 49, The training accuracy is: 0.6316361607710628\n",
      "At random state 49, The test accuracy is: 0.5006198811189437\n",
      "\n",
      "\n",
      "At random state 50, The training accuracy is: 0.635271705323819\n",
      "At random state 50, The test accuracy is: 0.49136949757806836\n",
      "\n",
      "\n",
      "At random state 51, The training accuracy is: 0.6287008248371136\n",
      "At random state 51, The test accuracy is: 0.5256639826322047\n",
      "\n",
      "\n",
      "At random state 52, The training accuracy is: 0.6027082406914301\n",
      "At random state 52, The test accuracy is: 0.6216330239738045\n",
      "\n",
      "\n",
      "At random state 53, The training accuracy is: 0.5883652660343041\n",
      "At random state 53, The test accuracy is: 0.6584780382445117\n",
      "\n",
      "\n",
      "At random state 54, The training accuracy is: 0.6322735807346245\n",
      "At random state 54, The test accuracy is: 0.5048102168374304\n",
      "\n",
      "\n",
      "At random state 55, The training accuracy is: 0.6020005137192667\n",
      "At random state 55, The test accuracy is: 0.6212033740150846\n",
      "\n",
      "\n",
      "At random state 56, The training accuracy is: 0.6044129005923661\n",
      "At random state 56, The test accuracy is: 0.6166842207765493\n",
      "\n",
      "\n",
      "At random state 57, The training accuracy is: 0.6060853891092115\n",
      "At random state 57, The test accuracy is: 0.6064704732810531\n",
      "\n",
      "\n",
      "At random state 58, The training accuracy is: 0.584755911195509\n",
      "At random state 58, The test accuracy is: 0.6892992712907756\n",
      "\n",
      "\n",
      "At random state 59, The training accuracy is: 0.6191704670695568\n",
      "At random state 59, The test accuracy is: 0.5649671647149446\n",
      "\n",
      "\n",
      "At random state 60, The training accuracy is: 0.5913311253320139\n",
      "At random state 60, The test accuracy is: 0.6687279438680698\n",
      "\n",
      "\n",
      "At random state 61, The training accuracy is: 0.5914074534903349\n",
      "At random state 61, The test accuracy is: 0.6662030233000887\n",
      "\n",
      "\n",
      "At random state 62, The training accuracy is: 0.6029206942131222\n",
      "At random state 62, The test accuracy is: 0.6190673169086869\n",
      "\n",
      "\n",
      "At random state 63, The training accuracy is: 0.6024068984281644\n",
      "At random state 63, The test accuracy is: 0.6059415880905907\n",
      "\n",
      "\n",
      "At random state 64, The training accuracy is: 0.620427592998748\n",
      "At random state 64, The test accuracy is: 0.540351779845964\n",
      "\n",
      "\n",
      "At random state 65, The training accuracy is: 0.6142829061416739\n",
      "At random state 65, The test accuracy is: 0.5734662850592669\n",
      "\n",
      "\n",
      "At random state 66, The training accuracy is: 0.6262246610100787\n",
      "At random state 66, The test accuracy is: 0.5256827680460123\n",
      "\n",
      "\n",
      "At random state 67, The training accuracy is: 0.588374120059851\n",
      "At random state 67, The test accuracy is: 0.6738894294908885\n",
      "\n",
      "\n",
      "At random state 68, The training accuracy is: 0.5994495348324149\n",
      "At random state 68, The test accuracy is: 0.6322878862244486\n",
      "\n",
      "\n",
      "At random state 69, The training accuracy is: 0.5985299593601432\n",
      "At random state 69, The test accuracy is: 0.6238597053755939\n",
      "\n",
      "\n",
      "At random state 70, The training accuracy is: 0.6121189816476424\n",
      "At random state 70, The test accuracy is: 0.5873427375792263\n",
      "\n",
      "\n",
      "At random state 71, The training accuracy is: 0.5892712796014686\n",
      "At random state 71, The test accuracy is: 0.6694643281953399\n",
      "\n",
      "\n",
      "At random state 72, The training accuracy is: 0.6111433530993198\n",
      "At random state 72, The test accuracy is: 0.58991014577807\n",
      "\n",
      "\n",
      "At random state 73, The training accuracy is: 0.5940751872261095\n",
      "At random state 73, The test accuracy is: 0.6480068629368758\n",
      "\n",
      "\n",
      "At random state 74, The training accuracy is: 0.6203925090869175\n",
      "At random state 74, The test accuracy is: 0.528242667627673\n",
      "\n",
      "\n",
      "At random state 75, The training accuracy is: 0.6225503358158364\n",
      "At random state 75, The test accuracy is: 0.5409928781050137\n",
      "\n",
      "\n",
      "At random state 76, The training accuracy is: 0.6255270683518448\n",
      "At random state 76, The test accuracy is: 0.5273863648416177\n",
      "\n",
      "\n",
      "At random state 77, The training accuracy is: 0.6106101735721192\n",
      "At random state 77, The test accuracy is: 0.5812746864695383\n",
      "\n",
      "\n",
      "At random state 78, The training accuracy is: 0.6014221223994236\n",
      "At random state 78, The test accuracy is: 0.6265629330301832\n",
      "\n",
      "\n",
      "At random state 79, The training accuracy is: 0.6203463441953845\n",
      "At random state 79, The test accuracy is: 0.5487237495164521\n",
      "\n",
      "\n",
      "At random state 80, The training accuracy is: 0.6240406496866027\n",
      "At random state 80, The test accuracy is: 0.5176758349716287\n",
      "\n",
      "\n",
      "At random state 81, The training accuracy is: 0.6023800035888556\n",
      "At random state 81, The test accuracy is: 0.6182445940376486\n",
      "\n",
      "\n",
      "At random state 82, The training accuracy is: 0.6312070078852707\n",
      "At random state 82, The test accuracy is: 0.4803978310130691\n",
      "\n",
      "\n",
      "At random state 83, The training accuracy is: 0.6073129439420415\n",
      "At random state 83, The test accuracy is: 0.6062937575583197\n",
      "\n",
      "\n",
      "At random state 84, The training accuracy is: 0.6006880894617692\n",
      "At random state 84, The test accuracy is: 0.6236299037686865\n",
      "\n",
      "\n",
      "At random state 85, The training accuracy is: 0.622627548098762\n",
      "At random state 85, The test accuracy is: 0.5363469032888653\n",
      "\n",
      "\n",
      "At random state 86, The training accuracy is: 0.5978640140351112\n",
      "At random state 86, The test accuracy is: 0.6470714981021206\n",
      "\n",
      "\n",
      "At random state 87, The training accuracy is: 0.6267853406577923\n",
      "At random state 87, The test accuracy is: 0.5066203236834241\n",
      "\n",
      "\n",
      "At random state 88, The training accuracy is: 0.6101407970396295\n",
      "At random state 88, The test accuracy is: 0.5920134187470797\n",
      "\n",
      "\n",
      "At random state 89, The training accuracy is: 0.6130856239285682\n",
      "At random state 89, The test accuracy is: 0.582670328339606\n",
      "\n",
      "\n",
      "At random state 90, The training accuracy is: 0.618143447132061\n",
      "At random state 90, The test accuracy is: 0.5646937152568774\n",
      "\n",
      "\n",
      "At random state 91, The training accuracy is: 0.6013853687664032\n",
      "At random state 91, The test accuracy is: 0.6301562727280104\n",
      "\n",
      "\n",
      "At random state 92, The training accuracy is: 0.608822596932993\n",
      "At random state 92, The test accuracy is: 0.598280043795946\n",
      "\n",
      "\n",
      "At random state 93, The training accuracy is: 0.6338769343411983\n",
      "At random state 93, The test accuracy is: 0.4859367086185602\n",
      "\n",
      "\n",
      "At random state 94, The training accuracy is: 0.598270440107469\n",
      "At random state 94, The test accuracy is: 0.6392164282956954\n",
      "\n",
      "\n",
      "At random state 95, The training accuracy is: 0.5905233142327375\n",
      "At random state 95, The test accuracy is: 0.665768746261007\n",
      "\n",
      "\n",
      "At random state 96, The training accuracy is: 0.62734139805968\n",
      "At random state 96, The test accuracy is: 0.5149153765762726\n",
      "\n",
      "\n",
      "At random state 97, The training accuracy is: 0.590222749874424\n",
      "At random state 97, The test accuracy is: 0.6674455617799442\n",
      "\n",
      "\n",
      "At random state 98, The training accuracy is: 0.5837464793043898\n",
      "At random state 98, The test accuracy is: 0.6915860795590751\n",
      "\n",
      "\n",
      "At random state 99, The training accuracy is: 0.6111038917930438\n",
      "At random state 99, The test accuracy is: 0.5829230367691219\n",
      "\n",
      "\n"
     ]
    }
   ],
   "source": [
    "from sklearn.linear_model import LinearRegression\n",
    "\n",
    "\n",
    "LR=LinearRegression()\n",
    "\n",
    "for i in range(0,100):\n",
    "    x_train,x_test,y_train,y_test=train_test_split(x,y,test_size=0.2,random_state=i)\n",
    "    LR.fit(x_train,y_train)\n",
    "    LR_predict_train=LR.predict(x_train)\n",
    "    LR_predict_test=LR.predict(x_test)\n",
    "    print(f'At random state {i}, The training accuracy is: {r2_score(y_train,LR_predict_train)}')\n",
    "    print(f'At random state {i}, The test accuracy is: {r2_score(y_test,LR_predict_test)}')\n",
    "    print('\\n')"
   ]
  },
  {
   "cell_type": "markdown",
   "id": "6dd1b3e0",
   "metadata": {},
   "source": [
    "* Random state=95 giving highest accuracy, choosing that as random state"
   ]
  },
  {
   "cell_type": "markdown",
   "id": "89b5e2e4",
   "metadata": {},
   "source": [
    "#### SPLITTING THE DATA WITH RANDOM STATE =95"
   ]
  },
  {
   "cell_type": "code",
   "execution_count": 76,
   "id": "c23a63db",
   "metadata": {},
   "outputs": [],
   "source": [
    "#splitting the data into 73% training and 27% testing\n",
    "x_train,x_test,y_train,y_test=train_test_split(x,y,test_size=0.27,random_state=95)"
   ]
  },
  {
   "cell_type": "code",
   "execution_count": 77,
   "id": "5d436af5",
   "metadata": {},
   "outputs": [
    {
     "data": {
      "text/plain": [
       "(646, 11)"
      ]
     },
     "execution_count": 77,
     "metadata": {},
     "output_type": "execute_result"
    }
   ],
   "source": [
    "x_train.shape"
   ]
  },
  {
   "cell_type": "code",
   "execution_count": 78,
   "id": "55e3f9f7",
   "metadata": {},
   "outputs": [
    {
     "data": {
      "text/plain": [
       "(239, 11)"
      ]
     },
     "execution_count": 78,
     "metadata": {},
     "output_type": "execute_result"
    }
   ],
   "source": [
    "x_test.shape"
   ]
  },
  {
   "cell_type": "code",
   "execution_count": 79,
   "id": "a42966c0",
   "metadata": {},
   "outputs": [
    {
     "data": {
      "text/plain": [
       "(646,)"
      ]
     },
     "execution_count": 79,
     "metadata": {},
     "output_type": "execute_result"
    }
   ],
   "source": [
    "y_train.shape"
   ]
  },
  {
   "cell_type": "code",
   "execution_count": 80,
   "id": "5281c75f",
   "metadata": {},
   "outputs": [
    {
     "data": {
      "text/plain": [
       "(239,)"
      ]
     },
     "execution_count": 80,
     "metadata": {},
     "output_type": "execute_result"
    }
   ],
   "source": [
    "y_test.shape"
   ]
  },
  {
   "cell_type": "code",
   "execution_count": 81,
   "id": "a0f5cf5e",
   "metadata": {},
   "outputs": [
    {
     "name": "stdout",
     "output_type": "stream",
     "text": [
      "0.5864596104267872\n"
     ]
    }
   ],
   "source": [
    "from sklearn.linear_model import LinearRegression\n",
    "\n",
    "\n",
    "LR=LinearRegression()\n",
    "LR.fit(x_train,y_train)\n",
    "print(LR.score(x_train,y_train))\n",
    "LR_predict=LR.predict(x_test)"
   ]
  },
  {
   "cell_type": "code",
   "execution_count": 82,
   "id": "0efc13c7",
   "metadata": {},
   "outputs": [
    {
     "name": "stdout",
     "output_type": "stream",
     "text": [
      "MSE: 0.3678555845581379\n",
      "MAE: 0.4830078050551141\n",
      "r2_score: 0.3663834258020635\n"
     ]
    }
   ],
   "source": [
    "print('MSE:',mean_squared_error(LR_predict,y_test))\n",
    "print('MAE:',mean_absolute_error(LR_predict,y_test))\n",
    "print('r2_score:',r2_score(LR_predict,y_test))"
   ]
  },
  {
   "cell_type": "markdown",
   "id": "5a1649f7",
   "metadata": {},
   "source": [
    "### Ridge:"
   ]
  },
  {
   "cell_type": "code",
   "execution_count": 83,
   "id": "27b07d0b",
   "metadata": {},
   "outputs": [
    {
     "name": "stdout",
     "output_type": "stream",
     "text": [
      "0.5863280068229355\n"
     ]
    }
   ],
   "source": [
    "from sklearn.linear_model import Ridge\n",
    "\n",
    "R=Ridge()\n",
    "R.fit(x_train,y_train)\n",
    "print(R.score(x_train,y_train))\n",
    "R_predict=R.predict(x_test)"
   ]
  },
  {
   "cell_type": "code",
   "execution_count": 84,
   "id": "83e56da0",
   "metadata": {},
   "outputs": [
    {
     "name": "stdout",
     "output_type": "stream",
     "text": [
      "MSE: 0.3674881298516646\n",
      "MAE: 0.48409629349125477\n",
      "r2_score: 0.3588186337202316\n"
     ]
    }
   ],
   "source": [
    "print('MSE:',mean_squared_error(R_predict,y_test))\n",
    "print('MAE:',mean_absolute_error(R_predict,y_test))\n",
    "print('r2_score:',r2_score(R_predict,y_test))"
   ]
  },
  {
   "cell_type": "markdown",
   "id": "16db1a19",
   "metadata": {},
   "source": [
    "### SVR \n"
   ]
  },
  {
   "cell_type": "markdown",
   "id": "618e3ac1",
   "metadata": {},
   "source": [
    "#### SVR(kernel = 'Linear')"
   ]
  },
  {
   "cell_type": "code",
   "execution_count": 85,
   "id": "1cb49c1d",
   "metadata": {},
   "outputs": [
    {
     "name": "stdout",
     "output_type": "stream",
     "text": [
      "0.5456748672496702\n"
     ]
    }
   ],
   "source": [
    "from sklearn.svm import SVR\n",
    "\n",
    "svr=SVR(kernel='linear')\n",
    "svr.fit(x_train,y_train)\n",
    "print(svr.score(x_train,y_train))\n",
    "svr_predict=svr.predict(x_test)"
   ]
  },
  {
   "cell_type": "code",
   "execution_count": 86,
   "id": "57c9641c",
   "metadata": {},
   "outputs": [
    {
     "name": "stdout",
     "output_type": "stream",
     "text": [
      "MSE: 0.3883396187655998\n",
      "MAE: 0.44202498117068884\n",
      "r2_score: 0.4679625216734927\n"
     ]
    }
   ],
   "source": [
    "print('MSE:',mean_squared_error(svr_predict,y_test))\n",
    "print('MAE:',mean_absolute_error(svr_predict,y_test))\n",
    "print('r2_score:',r2_score(svr_predict,y_test))"
   ]
  },
  {
   "cell_type": "markdown",
   "id": "01b06a3a",
   "metadata": {},
   "source": [
    "### SVR(kernel='Poly')"
   ]
  },
  {
   "cell_type": "code",
   "execution_count": 87,
   "id": "ee2bcab8",
   "metadata": {},
   "outputs": [
    {
     "name": "stdout",
     "output_type": "stream",
     "text": [
      "0.7829703605553091\n"
     ]
    }
   ],
   "source": [
    "svr_p=SVR(kernel='poly')\n",
    "svr_p.fit(x_train,y_train)\n",
    "print(svr_p.score(x_train,y_train))\n",
    "svrpred_p=svr_p.predict(x_test)"
   ]
  },
  {
   "cell_type": "code",
   "execution_count": 88,
   "id": "2daa4c66",
   "metadata": {},
   "outputs": [
    {
     "name": "stdout",
     "output_type": "stream",
     "text": [
      "MSE: 0.2134273177685649\n",
      "MAE: 0.3334210320564536\n",
      "r2_score: 0.7483369252858192\n"
     ]
    }
   ],
   "source": [
    "print('MSE:',mean_squared_error(svrpred_p,y_test))\n",
    "print('MAE:',mean_absolute_error(svrpred_p,y_test))\n",
    "print('r2_score:',r2_score(svrpred_p,y_test))"
   ]
  },
  {
   "cell_type": "markdown",
   "id": "f2e1e332",
   "metadata": {},
   "source": [
    "###### (kernel='rbf')"
   ]
  },
  {
   "cell_type": "code",
   "execution_count": 89,
   "id": "ed1fdeeb",
   "metadata": {},
   "outputs": [
    {
     "name": "stdout",
     "output_type": "stream",
     "text": [
      "0.7823377630968558\n"
     ]
    }
   ],
   "source": [
    "svr_r=SVR(kernel='rbf')\n",
    "svr_r.fit(x_train,y_train)\n",
    "print(svr_r.score(x_train,y_train))\n",
    "svrpred_r=svr_r.predict(x_test)"
   ]
  },
  {
   "cell_type": "code",
   "execution_count": 90,
   "id": "38be39bc",
   "metadata": {},
   "outputs": [
    {
     "name": "stdout",
     "output_type": "stream",
     "text": [
      "MSE: 0.1891729158220723\n",
      "MAE: 0.3238741545948087\n",
      "r2_score: 0.7479458546128988\n"
     ]
    }
   ],
   "source": [
    "print('MSE:',mean_squared_error(svrpred_r,y_test))\n",
    "print('MAE:',mean_absolute_error(svrpred_r,y_test))\n",
    "print('r2_score:',r2_score(svrpred_r,y_test))"
   ]
  },
  {
   "cell_type": "markdown",
   "id": "ba097742",
   "metadata": {},
   "source": [
    "### RandomForestRegressor"
   ]
  },
  {
   "cell_type": "code",
   "execution_count": 91,
   "id": "4224af8c",
   "metadata": {},
   "outputs": [
    {
     "name": "stdout",
     "output_type": "stream",
     "text": [
      "0.9589361127623709\n"
     ]
    }
   ],
   "source": [
    "from sklearn.ensemble import RandomForestRegressor\n",
    "\n",
    "RF=RandomForestRegressor()\n",
    "RF.fit(x_train,y_train)\n",
    "print(RF.score(x_train,y_train))\n",
    "RF_PRED=RF.predict(x_test)"
   ]
  },
  {
   "cell_type": "code",
   "execution_count": 92,
   "id": "942aa70d",
   "metadata": {},
   "outputs": [
    {
     "name": "stdout",
     "output_type": "stream",
     "text": [
      "MSE: 0.15241426127364763\n",
      "MAE: 0.2823720487963726\n",
      "r2_score: 0.8153639372146433\n"
     ]
    }
   ],
   "source": [
    "print('MSE:',mean_squared_error(RF_PRED,y_test))\n",
    "print('MAE:',mean_absolute_error(RF_PRED,y_test))\n",
    "print('r2_score:',r2_score(RF_PRED,y_test))"
   ]
  },
  {
   "cell_type": "markdown",
   "id": "236207b4",
   "metadata": {},
   "source": [
    "### DecisionTreeRegressor"
   ]
  },
  {
   "cell_type": "code",
   "execution_count": 93,
   "id": "3aa2b3ee",
   "metadata": {},
   "outputs": [
    {
     "name": "stdout",
     "output_type": "stream",
     "text": [
      "0.9906753612727366\n"
     ]
    }
   ],
   "source": [
    "from sklearn.tree import DecisionTreeRegressor\n",
    "\n",
    "DTR=DecisionTreeRegressor()\n",
    "DTR.fit(x_train,y_train)\n",
    "print(DTR.score(x_train,y_train))\n",
    "DTR_PRED=DTR.predict(x_test)"
   ]
  },
  {
   "cell_type": "code",
   "execution_count": 94,
   "id": "48886760",
   "metadata": {},
   "outputs": [
    {
     "name": "stdout",
     "output_type": "stream",
     "text": [
      "MSE: 0.32093605176411005\n",
      "MAE: 0.4082456727641957\n",
      "r2_score: 0.6698972177112505\n"
     ]
    }
   ],
   "source": [
    "print('MSE:',mean_squared_error(DTR_PRED,y_test))\n",
    "print('MAE:',mean_absolute_error(DTR_PRED,y_test))\n",
    "print('r2_score:',r2_score(DTR_PRED,y_test))"
   ]
  },
  {
   "cell_type": "markdown",
   "id": "4bf66a25",
   "metadata": {},
   "source": [
    "### GradientBoostingRegressor"
   ]
  },
  {
   "cell_type": "code",
   "execution_count": 95,
   "id": "cce8b56a",
   "metadata": {},
   "outputs": [
    {
     "name": "stdout",
     "output_type": "stream",
     "text": [
      "0.8802104166754463\n"
     ]
    }
   ],
   "source": [
    "from sklearn.ensemble import GradientBoostingRegressor\n",
    "\n",
    "GBR=GradientBoostingRegressor()\n",
    "GBR.fit(x_train,y_train)\n",
    "print(GBR.score(x_train,y_train))\n",
    "GBR_PRED=GBR.predict(x_test)"
   ]
  },
  {
   "cell_type": "code",
   "execution_count": 96,
   "id": "e9b26f97",
   "metadata": {},
   "outputs": [
    {
     "name": "stdout",
     "output_type": "stream",
     "text": [
      "MSE: 0.14996409700530863\n",
      "MAE: 0.2970610366738289\n",
      "r2_score: 0.8111865454023494\n"
     ]
    }
   ],
   "source": [
    "print('MSE:',mean_squared_error(GBR_PRED,y_test))\n",
    "print('MAE:',mean_absolute_error(GBR_PRED,y_test))\n",
    "print('r2_score:',r2_score(GBR_PRED,y_test))"
   ]
  },
  {
   "cell_type": "markdown",
   "id": "3184b257",
   "metadata": {},
   "source": [
    "### cross validation"
   ]
  },
  {
   "cell_type": "code",
   "execution_count": 97,
   "id": "d9d4cce1",
   "metadata": {},
   "outputs": [
    {
     "name": "stdout",
     "output_type": "stream",
     "text": [
      "LR    : 0.405445, 0.062499\n",
      "R    : 0.404019, 0.062006\n",
      "svr    : 0.446500, 0.076536\n",
      "svr_p    : 0.249986, 0.053431\n",
      "svr_r    : 0.231048, 0.063926\n",
      "RF    : 0.210123, 0.060015\n",
      "DTR    : 0.323198, 0.093622\n",
      "GBR    : 0.204018, 0.063639\n"
     ]
    }
   ],
   "source": [
    "from sklearn.model_selection import cross_val_score\n",
    "\n",
    "np.random.seed(10)\n",
    "def rmse_cv(model, x,y):\n",
    "    rmse =- (cross_val_score(model, x,y, scoring='neg_mean_squared_error', cv=10))\n",
    "    return(rmse)\n",
    "\n",
    "\n",
    "models = [LinearRegression(),\n",
    "             Ridge(),\n",
    "             SVR(kernel='linear'),\n",
    "             SVR(kernel='poly'),\n",
    "             SVR(kernel='rbf'),\n",
    "             RandomForestRegressor(),\n",
    "             DecisionTreeRegressor(),  \n",
    "             GradientBoostingRegressor(),]\n",
    "            \n",
    "\n",
    "\n",
    "names = ['LR','R','svr','svr_p','svr_r','RF','DTR','GBR']\n",
    "\n",
    "for model,name in zip(models,names):\n",
    "    score = rmse_cv(model,x,y)\n",
    "    print(\"{}    : {:.6f}, {:4f}\".format(name,score.mean(),score.std()))"
   ]
  },
  {
   "cell_type": "markdown",
   "id": "76969652",
   "metadata": {},
   "source": [
    "According to all metrics score selecting the GradientBoostingRegressoras for GridSeachCV"
   ]
  },
  {
   "cell_type": "markdown",
   "id": "0eba61fd",
   "metadata": {},
   "source": [
    "### HYPER PARAMETER TUNING:"
   ]
  },
  {
   "cell_type": "markdown",
   "id": "627ff95b",
   "metadata": {},
   "source": [
    "### GridSearchCV"
   ]
  },
  {
   "cell_type": "code",
   "execution_count": 98,
   "id": "32d74208",
   "metadata": {},
   "outputs": [],
   "source": [
    "from sklearn.model_selection import GridSearchCV"
   ]
  },
  {
   "cell_type": "markdown",
   "id": "0e506cda",
   "metadata": {},
   "source": [
    "### With GradientBoostingRegressor"
   ]
  },
  {
   "cell_type": "code",
   "execution_count": 99,
   "id": "beb8fe8e",
   "metadata": {},
   "outputs": [],
   "source": [
    "GF=GradientBoostingRegressor()\n",
    "param={\n",
    "     'criterion':['mse','mae'],\n",
    "     'n_estimators':[100, 200],\n",
    "    }"
   ]
  },
  {
   "cell_type": "code",
   "execution_count": 100,
   "id": "b851c9a5",
   "metadata": {},
   "outputs": [],
   "source": [
    "GF_grid=GridSearchCV(RandomForestRegressor(),param,cv=10,scoring='accuracy',n_jobs=-1,verbose=2)"
   ]
  },
  {
   "cell_type": "code",
   "execution_count": 101,
   "id": "b518c97a",
   "metadata": {},
   "outputs": [
    {
     "name": "stdout",
     "output_type": "stream",
     "text": [
      "Fitting 10 folds for each of 4 candidates, totalling 40 fits\n"
     ]
    }
   ],
   "source": [
    "GF_grid.fit(x_train,y_train)\n",
    "GF_grid_pred=GF_grid.best_estimator_.predict(x_test)"
   ]
  },
  {
   "cell_type": "code",
   "execution_count": 102,
   "id": "b01160a6",
   "metadata": {},
   "outputs": [
    {
     "data": {
      "text/plain": [
       "{'criterion': 'mse', 'n_estimators': 100}"
      ]
     },
     "execution_count": 102,
     "metadata": {},
     "output_type": "execute_result"
    }
   ],
   "source": [
    "GF_grid.best_params_"
   ]
  },
  {
   "cell_type": "code",
   "execution_count": 106,
   "id": "031e3863",
   "metadata": {},
   "outputs": [
    {
     "name": "stdout",
     "output_type": "stream",
     "text": [
      "MSE: 0.14974867353848836\n",
      "MAE: 0.2832464034168786\n",
      "r2_score: 0.8183521327479188\n"
     ]
    }
   ],
   "source": [
    "print('MSE:',mean_squared_error(GF_grid_pred,y_test))\n",
    "print('MAE:',mean_absolute_error(GF_grid_pred,y_test))\n",
    "print('r2_score:',r2_score(GF_grid_pred,y_test))"
   ]
  },
  {
   "cell_type": "code",
   "execution_count": 104,
   "id": "eeda74d0",
   "metadata": {},
   "outputs": [
    {
     "data": {
      "text/plain": [
       "<AxesSubplot:xlabel='capacity_mw', ylabel='Density'>"
      ]
     },
     "execution_count": 104,
     "metadata": {},
     "output_type": "execute_result"
    },
    {
     "data": {
      "image/png": "[encoded data removed]",
      "text/plain": [
       "<Figure size 432x288 with 1 Axes>"
      ]
     },
     "metadata": {},
     "output_type": "display_data"
    }
   ],
   "source": [
    "sns.distplot(GF_grid_pred-y_test)"
   ]
  },
  {
   "cell_type": "code",
   "execution_count": 105,
   "id": "c7f82381",
   "metadata": {},
   "outputs": [
    {
     "data": {
      "text/plain": [
       "[<matplotlib.lines.Line2D at 0x1e6d7f92af0>]"
      ]
     },
     "execution_count": 105,
     "metadata": {},
     "output_type": "execute_result"
    },
    {
     "data": {
      "image/png": "[encoded data removed]",
      "text/plain": [
       "<Figure size 432x288 with 1 Axes>"
      ]
     },
     "metadata": {},
     "output_type": "display_data"
    }
   ],
   "source": [
    "plt.scatter(GF_grid_pred,y_test)\n",
    "plt.plot(y_test,y_test,linewidth=2,color='Red')"
   ]
  },
  {
   "cell_type": "markdown",
   "id": "e12b524e",
   "metadata": {},
   "source": [
    "### Choosing GradientBoostingRegressor as the best model"
   ]
  },
  {
   "cell_type": "markdown",
   "id": "2f0fea0c",
   "metadata": {},
   "source": [
    "#### saving the model"
   ]
  },
  {
   "cell_type": "code",
   "execution_count": 107,
   "id": "c747f990",
   "metadata": {},
   "outputs": [],
   "source": [
    "import joblib"
   ]
  },
  {
   "cell_type": "code",
   "execution_count": 108,
   "id": "848397f2",
   "metadata": {},
   "outputs": [
    {
     "data": {
      "text/plain": [
       "['Global Power Plant Database Regression.obj']"
      ]
     },
     "execution_count": 108,
     "metadata": {},
     "output_type": "execute_result"
    }
   ],
   "source": [
    "joblib.dump(GF_grid.best_estimator_,'Global Power Plant Database Regression.obj')"
   ]
  },
  {
   "cell_type": "markdown",
   "id": "8f31dd72",
   "metadata": {},
   "source": [
    "### TAKING 'primary_fuel' AS TARGET , CREATING CLASSIFICATION MODEL"
   ]
  },
  {
   "cell_type": "markdown",
   "id": "13e4e60d",
   "metadata": {},
   "source": [
    "### Dividing data into X and Y"
   ]
  },
  {
   "cell_type": "code",
   "execution_count": 109,
   "id": "2f1ecf30",
   "metadata": {},
   "outputs": [],
   "source": [
    "x=df.drop(['primary_fuel'],axis=1)\n",
    "y=df['primary_fuel']"
   ]
  },
  {
   "cell_type": "code",
   "execution_count": 110,
   "id": "10705c1c",
   "metadata": {},
   "outputs": [
    {
     "data": {
      "text/plain": [
       "(885, 11)"
      ]
     },
     "execution_count": 110,
     "metadata": {},
     "output_type": "execute_result"
    }
   ],
   "source": [
    "x.shape"
   ]
  },
  {
   "cell_type": "code",
   "execution_count": 111,
   "id": "b0bcf136",
   "metadata": {},
   "outputs": [
    {
     "data": {
      "text/plain": [
       "(885,)"
      ]
     },
     "execution_count": 111,
     "metadata": {},
     "output_type": "execute_result"
    }
   ],
   "source": [
    "y.shape"
   ]
  },
  {
   "cell_type": "markdown",
   "id": "14fd555a",
   "metadata": {},
   "source": [
    "### Spliting Train and Test data"
   ]
  },
  {
   "cell_type": "code",
   "execution_count": 112,
   "id": "34153a26",
   "metadata": {},
   "outputs": [],
   "source": [
    "from sklearn.model_selection import train_test_split"
   ]
  },
  {
   "cell_type": "code",
   "execution_count": 114,
   "id": "b316de66",
   "metadata": {},
   "outputs": [],
   "source": [
    "x_train,x_test,y_train,y_test=train_test_split(x,y,test_size=.27,random_state=42)"
   ]
  },
  {
   "cell_type": "code",
   "execution_count": 115,
   "id": "e2d8a6f8",
   "metadata": {},
   "outputs": [
    {
     "data": {
      "text/plain": [
       "(646, 11)"
      ]
     },
     "execution_count": 115,
     "metadata": {},
     "output_type": "execute_result"
    }
   ],
   "source": [
    "x_train.shape"
   ]
  },
  {
   "cell_type": "code",
   "execution_count": 117,
   "id": "94cad79a",
   "metadata": {},
   "outputs": [
    {
     "data": {
      "text/plain": [
       "(239, 11)"
      ]
     },
     "execution_count": 117,
     "metadata": {},
     "output_type": "execute_result"
    }
   ],
   "source": [
    "x_test.shape"
   ]
  },
  {
   "cell_type": "code",
   "execution_count": 118,
   "id": "343d01c4",
   "metadata": {},
   "outputs": [
    {
     "data": {
      "text/plain": [
       "(646,)"
      ]
     },
     "execution_count": 118,
     "metadata": {},
     "output_type": "execute_result"
    }
   ],
   "source": [
    "y_train.shape"
   ]
  },
  {
   "cell_type": "code",
   "execution_count": 119,
   "id": "55afa8fd",
   "metadata": {},
   "outputs": [
    {
     "data": {
      "text/plain": [
       "(239,)"
      ]
     },
     "execution_count": 119,
     "metadata": {},
     "output_type": "execute_result"
    }
   ],
   "source": [
    "y_test.shape"
   ]
  },
  {
   "cell_type": "markdown",
   "id": "41d540b2",
   "metadata": {},
   "source": [
    "### MODEL BUILDING:"
   ]
  },
  {
   "cell_type": "code",
   "execution_count": 120,
   "id": "16df266c",
   "metadata": {},
   "outputs": [],
   "source": [
    "#Importing necessary libraries\n",
    "\n",
    "from sklearn.linear_model import LogisticRegression\n",
    "\n",
    "from sklearn.svm import SVC\n",
    "from sklearn.tree import DecisionTreeClassifier\n",
    "from sklearn.neighbors import KNeighborsClassifier\n",
    "from sklearn.model_selection import train_test_split\n",
    "from sklearn.metrics import accuracy_score,confusion_matrix,classification_report\n",
    "from sklearn.ensemble import RandomForestClassifier\n",
    "from sklearn.ensemble import AdaBoostClassifier\n",
    "from sklearn.ensemble import BaggingClassifier\n",
    "from sklearn.ensemble import GradientBoostingClassifier\n",
    "from sklearn.model_selection import GridSearchCV\n",
    "from sklearn.metrics import precision_score\n",
    "from sklearn.metrics import recall_score\n",
    "from sklearn.metrics import f1_score\n",
    "\n",
    "import warnings\n",
    "from sklearn.model_selection import cross_val_score\n",
    "warnings.filterwarnings('ignore')"
   ]
  },
  {
   "cell_type": "markdown",
   "id": "9a7d02bc",
   "metadata": {},
   "source": [
    "### LogisticRegression"
   ]
  },
  {
   "cell_type": "code",
   "execution_count": 121,
   "id": "ecdda244",
   "metadata": {},
   "outputs": [
    {
     "name": "stdout",
     "output_type": "stream",
     "text": [
      "cross validation score: 0.5378531073446328\n"
     ]
    }
   ],
   "source": [
    "logreg=LogisticRegression()\n",
    "logreg_score=cross_val_score(logreg,x,y,cv=5,scoring='accuracy')\n",
    "print(\"cross validation score:\",np.mean(logreg_score))"
   ]
  },
  {
   "cell_type": "code",
   "execution_count": 122,
   "id": "6cc85181",
   "metadata": {},
   "outputs": [
    {
     "name": "stdout",
     "output_type": "stream",
     "text": [
      "0.5564853556485355\n",
      "[[ 0  1  0  0  0  0 10  1]\n",
      " [ 0  8  0 39  0  0 17  4]\n",
      " [ 0  2  0 14  0  0  2  1]\n",
      " [ 0  3  0 65  0  0  0  0]\n",
      " [ 0  0  0  2  0  0  0  0]\n",
      " [ 0  0  0  2  0  0  3  0]\n",
      " [ 0  2  0  0  0  0 25  3]\n",
      " [ 0  0  0  0  0  0  0 35]]\n",
      "              precision    recall  f1-score   support\n",
      "\n",
      "           0       0.00      0.00      0.00        12\n",
      "           1       0.50      0.12      0.19        68\n",
      "           2       0.00      0.00      0.00        19\n",
      "           3       0.53      0.96      0.68        68\n",
      "           4       0.00      0.00      0.00         2\n",
      "           5       0.00      0.00      0.00         5\n",
      "           6       0.44      0.83      0.57        30\n",
      "           7       0.80      1.00      0.89        35\n",
      "\n",
      "    accuracy                           0.56       239\n",
      "   macro avg       0.28      0.36      0.29       239\n",
      "weighted avg       0.47      0.56      0.45       239\n",
      "\n",
      "Training accuracy:: 0.5340557275541795\n",
      "Test accuracy:: 0.5564853556485355\n"
     ]
    }
   ],
   "source": [
    "logreg.fit(x_train,y_train)\n",
    "LR_predicted=logreg.predict(x_test)\n",
    "\n",
    "print(accuracy_score(y_test,LR_predicted))\n",
    "print(confusion_matrix(y_test,LR_predicted))\n",
    "print(classification_report(y_test,LR_predicted))\n",
    "print(\"Training accuracy::\",logreg.score(x_train,y_train))\n",
    "print(\"Test accuracy::\",logreg.score(x_test,y_test))"
   ]
  },
  {
   "cell_type": "markdown",
   "id": "464762df",
   "metadata": {},
   "source": [
    "### DECISION TREE CLASSIFIER"
   ]
  },
  {
   "cell_type": "code",
   "execution_count": 123,
   "id": "33dd4080",
   "metadata": {},
   "outputs": [
    {
     "name": "stdout",
     "output_type": "stream",
     "text": [
      "cross validation score for svm: 0.7875706214689264\n"
     ]
    }
   ],
   "source": [
    "dtc=DecisionTreeClassifier()\n",
    "dtc_score=cross_val_score(dtc,x,y,cv=5,scoring='accuracy')\n",
    "print(\"cross validation score for svm:\",np.mean(dtc_score))"
   ]
  },
  {
   "cell_type": "code",
   "execution_count": 124,
   "id": "d11ef816",
   "metadata": {},
   "outputs": [
    {
     "name": "stdout",
     "output_type": "stream",
     "text": [
      "0.803347280334728\n",
      "[[11  1  0  0  0  0  0  0]\n",
      " [ 1 50  8  5  1  3  0  0]\n",
      " [ 0  3  8  7  0  1  0  0]\n",
      " [ 0  8  3 57  0  0  0  0]\n",
      " [ 0  1  0  0  0  1  0  0]\n",
      " [ 0  1  2  0  0  2  0  0]\n",
      " [ 1  0  0  0  0  0 29  0]\n",
      " [ 0  0  0  0  0  0  0 35]]\n",
      "              precision    recall  f1-score   support\n",
      "\n",
      "           0       0.85      0.92      0.88        12\n",
      "           1       0.78      0.74      0.76        68\n",
      "           2       0.38      0.42      0.40        19\n",
      "           3       0.83      0.84      0.83        68\n",
      "           4       0.00      0.00      0.00         2\n",
      "           5       0.29      0.40      0.33         5\n",
      "           6       1.00      0.97      0.98        30\n",
      "           7       1.00      1.00      1.00        35\n",
      "\n",
      "    accuracy                           0.80       239\n",
      "   macro avg       0.64      0.66      0.65       239\n",
      "weighted avg       0.81      0.80      0.81       239\n",
      "\n",
      "Training accuracy:: 1.0\n",
      "Test accuracy:: 0.803347280334728\n"
     ]
    }
   ],
   "source": [
    "dtc.fit(x_train,y_train)\n",
    "predicted_dtc=dtc.predict(x_test)\n",
    "print(accuracy_score(y_test,predicted_dtc))\n",
    "print(confusion_matrix(y_test,predicted_dtc))\n",
    "print(classification_report(y_test,predicted_dtc))\n",
    "print(\"Training accuracy::\",dtc.score(x_train,y_train))\n",
    "print(\"Test accuracy::\",dtc.score(x_test,y_test))"
   ]
  },
  {
   "cell_type": "markdown",
   "id": "d8883c3f",
   "metadata": {},
   "source": [
    "### KNeighborsClassifier"
   ]
  },
  {
   "cell_type": "code",
   "execution_count": 125,
   "id": "df398a36",
   "metadata": {},
   "outputs": [
    {
     "name": "stdout",
     "output_type": "stream",
     "text": [
      "cross validation score for knn: 0.7299435028248588\n"
     ]
    }
   ],
   "source": [
    "knn=KNeighborsClassifier()\n",
    "knn_score=cross_val_score(knn,x,y,cv=5,scoring='accuracy')\n",
    "print(\"cross validation score for knn:\",np.mean(knn_score))"
   ]
  },
  {
   "cell_type": "code",
   "execution_count": 126,
   "id": "90404552",
   "metadata": {},
   "outputs": [
    {
     "name": "stdout",
     "output_type": "stream",
     "text": [
      "0.7364016736401674\n",
      "[[ 8  2  1  0  0  0  1  0]\n",
      " [ 2 43  5 12  0  0  5  1]\n",
      " [ 1  8  5  4  0  0  0  1]\n",
      " [ 0  1  1 64  0  2  0  0]\n",
      " [ 0  0  1  1  0  0  0  0]\n",
      " [ 1  1  0  2  0  0  1  0]\n",
      " [ 5  3  0  0  0  0 21  1]\n",
      " [ 0  0  0  0  0  0  0 35]]\n",
      "              precision    recall  f1-score   support\n",
      "\n",
      "           0       0.47      0.67      0.55        12\n",
      "           1       0.74      0.63      0.68        68\n",
      "           2       0.38      0.26      0.31        19\n",
      "           3       0.77      0.94      0.85        68\n",
      "           4       0.00      0.00      0.00         2\n",
      "           5       0.00      0.00      0.00         5\n",
      "           6       0.75      0.70      0.72        30\n",
      "           7       0.92      1.00      0.96        35\n",
      "\n",
      "    accuracy                           0.74       239\n",
      "   macro avg       0.50      0.53      0.51       239\n",
      "weighted avg       0.71      0.74      0.72       239\n",
      "\n",
      "Training accuracy:: 0.8142414860681114\n",
      "Test accuracy:: 0.7364016736401674\n"
     ]
    }
   ],
   "source": [
    "knn.fit(x_train,y_train)\n",
    "predicted_knn=knn.predict(x_test)\n",
    "print(accuracy_score(y_test,predicted_knn))\n",
    "print(confusion_matrix(y_test,predicted_knn))\n",
    "print(classification_report(y_test,predicted_knn))\n",
    "print(\"Training accuracy::\",knn.score(x_train,y_train))\n",
    "print(\"Test accuracy::\",knn.score(x_test,y_test))"
   ]
  },
  {
   "cell_type": "markdown",
   "id": "e5c5c449",
   "metadata": {},
   "source": [
    "### RandomForestClassifier"
   ]
  },
  {
   "cell_type": "code",
   "execution_count": 127,
   "id": "78405f2a",
   "metadata": {},
   "outputs": [
    {
     "name": "stdout",
     "output_type": "stream",
     "text": [
      "cross validation score for rfc: 0.8474576271186441\n"
     ]
    }
   ],
   "source": [
    "rfc=RandomForestClassifier()\n",
    "rfc_score=cross_val_score(rfc,x,y,cv=5,scoring='accuracy')\n",
    "print(\"cross validation score for rfc:\",np.mean(rfc_score))"
   ]
  },
  {
   "cell_type": "code",
   "execution_count": 128,
   "id": "d5b3b1c9",
   "metadata": {},
   "outputs": [
    {
     "name": "stdout",
     "output_type": "stream",
     "text": [
      "0.8493723849372385\n",
      "[[11  1  0  0  0  0  0  0]\n",
      " [ 6 53  0  7  0  2  0  0]\n",
      " [ 0  5  6  6  0  2  0  0]\n",
      " [ 0  3  0 65  0  0  0  0]\n",
      " [ 0  1  0  0  0  1  0  0]\n",
      " [ 0  1  1  0  0  3  0  0]\n",
      " [ 0  0  0  0  0  0 30  0]\n",
      " [ 0  0  0  0  0  0  0 35]]\n",
      "              precision    recall  f1-score   support\n",
      "\n",
      "           0       0.65      0.92      0.76        12\n",
      "           1       0.83      0.78      0.80        68\n",
      "           2       0.86      0.32      0.46        19\n",
      "           3       0.83      0.96      0.89        68\n",
      "           4       0.00      0.00      0.00         2\n",
      "           5       0.38      0.60      0.46         5\n",
      "           6       1.00      1.00      1.00        30\n",
      "           7       1.00      1.00      1.00        35\n",
      "\n",
      "    accuracy                           0.85       239\n",
      "   macro avg       0.69      0.70      0.67       239\n",
      "weighted avg       0.85      0.85      0.84       239\n",
      "\n",
      "Training accuracy:: 1.0\n",
      "Test accuracy:: 0.8493723849372385\n"
     ]
    }
   ],
   "source": [
    "rfc.fit(x_train,y_train)\n",
    "predicted_rfc=rfc.predict(x_test)\n",
    "print(accuracy_score(y_test,predicted_rfc))\n",
    "print(confusion_matrix(y_test,predicted_rfc))\n",
    "print(classification_report(y_test,predicted_rfc))\n",
    "print(\"Training accuracy::\",rfc.score(x_train,y_train))\n",
    "print(\"Test accuracy::\",rfc.score(x_test,y_test))"
   ]
  },
  {
   "cell_type": "markdown",
   "id": "97be4db7",
   "metadata": {},
   "source": [
    "### ENSEMBLE TECHNIQUES"
   ]
  },
  {
   "cell_type": "markdown",
   "id": "7c8539c9",
   "metadata": {},
   "source": [
    "#### 1.ADA BOOST CLASSIFIER"
   ]
  },
  {
   "cell_type": "code",
   "execution_count": 129,
   "id": "0b3b5e72",
   "metadata": {},
   "outputs": [
    {
     "name": "stdout",
     "output_type": "stream",
     "text": [
      "cross validation score for Ada boost: 0.5458503575076609\n"
     ]
    }
   ],
   "source": [
    "adb=AdaBoostClassifier()\n",
    "adb_score=cross_val_score(adb,x,y,cv=10,scoring='accuracy')\n",
    "print(\"cross validation score for Ada boost:\",np.mean(adb_score))"
   ]
  },
  {
   "cell_type": "code",
   "execution_count": 130,
   "id": "cbb06b3c",
   "metadata": {},
   "outputs": [
    {
     "name": "stdout",
     "output_type": "stream",
     "text": [
      "0.41841004184100417\n",
      "[[ 0  0  0 12  0  0  0  0]\n",
      " [ 0  3  0 65  0  0  0  0]\n",
      " [ 0  0  0 19  0  0  0  0]\n",
      " [ 0  0  0 68  0  0  0  0]\n",
      " [ 0  0  0  2  0  0  0  0]\n",
      " [ 0  0  0  5  0  0  0  0]\n",
      " [ 0  0  0  1  0  0 29  0]\n",
      " [ 0 35  0  0  0  0  0  0]]\n",
      "              precision    recall  f1-score   support\n",
      "\n",
      "           0       0.00      0.00      0.00        12\n",
      "           1       0.08      0.04      0.06        68\n",
      "           2       0.00      0.00      0.00        19\n",
      "           3       0.40      1.00      0.57        68\n",
      "           4       0.00      0.00      0.00         2\n",
      "           5       0.00      0.00      0.00         5\n",
      "           6       1.00      0.97      0.98        30\n",
      "           7       0.00      0.00      0.00        35\n",
      "\n",
      "    accuracy                           0.42       239\n",
      "   macro avg       0.18      0.25      0.20       239\n",
      "weighted avg       0.26      0.42      0.30       239\n",
      "\n",
      "Training accuracy:: 0.44272445820433437\n",
      "Test accuracy:: 0.41841004184100417\n"
     ]
    }
   ],
   "source": [
    "adb.fit(x_train,y_train)\n",
    "predicted_adb=adb.predict(x_test)\n",
    "print(accuracy_score(y_test,predicted_adb))\n",
    "print(confusion_matrix(y_test,predicted_adb))\n",
    "print(classification_report(y_test,predicted_adb))\n",
    "print(\"Training accuracy::\",adb.score(x_train,y_train))\n",
    "print(\"Test accuracy::\",adb.score(x_test,y_test))"
   ]
  },
  {
   "cell_type": "markdown",
   "id": "5cfee2c7",
   "metadata": {},
   "source": [
    "#### 2.BAGGING CLASSIFIER"
   ]
  },
  {
   "cell_type": "code",
   "execution_count": 131,
   "id": "472f5fd1",
   "metadata": {},
   "outputs": [
    {
     "name": "stdout",
     "output_type": "stream",
     "text": [
      "cross validation score for BAGGING Classifier: 0.8338483146067415\n"
     ]
    }
   ],
   "source": [
    "bgc=BaggingClassifier()\n",
    "bgc_score=cross_val_score(bgc,x,y,cv=10,scoring='accuracy')\n",
    "print(\"cross validation score for BAGGING Classifier:\",np.mean(bgc_score))"
   ]
  },
  {
   "cell_type": "code",
   "execution_count": 132,
   "id": "38a041f3",
   "metadata": {},
   "outputs": [
    {
     "name": "stdout",
     "output_type": "stream",
     "text": [
      "0.8200836820083682\n",
      "[[11  1  0  0  0  0  0  0]\n",
      " [ 6 49  5  7  0  1  0  0]\n",
      " [ 0  2  6  9  0  2  0  0]\n",
      " [ 0  5  0 63  0  0  0  0]\n",
      " [ 0  1  0  0  0  1  0  0]\n",
      " [ 0  1  1  0  0  3  0  0]\n",
      " [ 0  1  0  0  0  0 29  0]\n",
      " [ 0  0  0  0  0  0  0 35]]\n",
      "              precision    recall  f1-score   support\n",
      "\n",
      "           0       0.65      0.92      0.76        12\n",
      "           1       0.82      0.72      0.77        68\n",
      "           2       0.50      0.32      0.39        19\n",
      "           3       0.80      0.93      0.86        68\n",
      "           4       0.00      0.00      0.00         2\n",
      "           5       0.43      0.60      0.50         5\n",
      "           6       1.00      0.97      0.98        30\n",
      "           7       1.00      1.00      1.00        35\n",
      "\n",
      "    accuracy                           0.82       239\n",
      "   macro avg       0.65      0.68      0.66       239\n",
      "weighted avg       0.81      0.82      0.81       239\n",
      "\n",
      "Training accuracy:: 0.9938080495356038\n",
      "Test accuracy:: 0.8200836820083682\n"
     ]
    }
   ],
   "source": [
    "bgc.fit(x_train,y_train)\n",
    "predicted_bgc=bgc.predict(x_test)\n",
    "print(accuracy_score(y_test,predicted_bgc))\n",
    "print(confusion_matrix(y_test,predicted_bgc))\n",
    "print(classification_report(y_test,predicted_bgc))\n",
    "print(\"Training accuracy::\",bgc.score(x_train,y_train))\n",
    "print(\"Test accuracy::\",bgc.score(x_test,y_test))"
   ]
  },
  {
   "cell_type": "markdown",
   "id": "bf50b1de",
   "metadata": {},
   "source": [
    "#### 3.Gradient Boosting classifier"
   ]
  },
  {
   "cell_type": "code",
   "execution_count": 133,
   "id": "3614b9bf",
   "metadata": {},
   "outputs": [
    {
     "name": "stdout",
     "output_type": "stream",
     "text": [
      "cross validation score for Gradient Boosting Classifier: 0.8530643513789581\n"
     ]
    }
   ],
   "source": [
    "grbc=GradientBoostingClassifier()\n",
    "grbc_score=cross_val_score(grbc,x,y,cv=10,scoring='accuracy')\n",
    "print(\"cross validation score for Gradient Boosting Classifier:\",np.mean(grbc_score))"
   ]
  },
  {
   "cell_type": "code",
   "execution_count": 134,
   "id": "e4f02252",
   "metadata": {},
   "outputs": [
    {
     "name": "stdout",
     "output_type": "stream",
     "text": [
      "0.8368200836820083\n",
      "[[12  0  0  0  0  0  0  0]\n",
      " [ 5 51  2  7  2  1  0  0]\n",
      " [ 0  5  9  3  0  2  0  0]\n",
      " [ 0  5  1 62  0  0  0  0]\n",
      " [ 0  1  0  0  0  1  0  0]\n",
      " [ 0  1  3  0  0  1  0  0]\n",
      " [ 0  0  0  0  0  0 30  0]\n",
      " [ 0  0  0  0  0  0  0 35]]\n",
      "              precision    recall  f1-score   support\n",
      "\n",
      "           0       0.71      1.00      0.83        12\n",
      "           1       0.81      0.75      0.78        68\n",
      "           2       0.60      0.47      0.53        19\n",
      "           3       0.86      0.91      0.89        68\n",
      "           4       0.00      0.00      0.00         2\n",
      "           5       0.20      0.20      0.20         5\n",
      "           6       1.00      1.00      1.00        30\n",
      "           7       1.00      1.00      1.00        35\n",
      "\n",
      "    accuracy                           0.84       239\n",
      "   macro avg       0.65      0.67      0.65       239\n",
      "weighted avg       0.83      0.84      0.83       239\n",
      "\n",
      "Training accuracy:: 1.0\n",
      "Test accuracy:: 0.8368200836820083\n"
     ]
    }
   ],
   "source": [
    "grbc.fit(x_train,y_train)\n",
    "predicted_grbc=grbc.predict(x_test)\n",
    "print(accuracy_score(y_test,predicted_grbc))\n",
    "print(confusion_matrix(y_test,predicted_grbc))\n",
    "print(classification_report(y_test,predicted_grbc))\n",
    "print(\"Training accuracy::\",grbc.score(x_train,y_train))\n",
    "print(\"Test accuracy::\",grbc.score(x_test,y_test))"
   ]
  },
  {
   "cell_type": "markdown",
   "id": "89ff5b6d",
   "metadata": {},
   "source": [
    "RandomForestClassifier as final model for HYPER PARAMETER TUNING"
   ]
  },
  {
   "cell_type": "markdown",
   "id": "bdffca87",
   "metadata": {},
   "source": [
    "### HYPER PARAMETER TUNING:"
   ]
  },
  {
   "cell_type": "code",
   "execution_count": 139,
   "id": "2355002d",
   "metadata": {},
   "outputs": [],
   "source": [
    "rfc=RandomForestClassifier()\n",
    "param_grid={\n",
    "    'criterion' : [\"gini\", \"entropy\"],\n",
    "    'n_estimators':[200,50],\n",
    "    'min_samples_split':[2,3],\n",
    "     'random_state':[10]              \n",
    "}"
   ]
  },
  {
   "cell_type": "code",
   "execution_count": 141,
   "id": "ea7c2978",
   "metadata": {},
   "outputs": [],
   "source": [
    "rfc_grid=GridSearchCV(RandomForestClassifier(),param_grid,cv=4,scoring='accuracy',n_jobs=-1,verbose=2)\n"
   ]
  },
  {
   "cell_type": "code",
   "execution_count": 142,
   "id": "3a575b52",
   "metadata": {},
   "outputs": [
    {
     "name": "stdout",
     "output_type": "stream",
     "text": [
      "Fitting 4 folds for each of 8 candidates, totalling 32 fits\n",
      "Accuracy after parameter tuning:: 0.8284518828451883\n"
     ]
    }
   ],
   "source": [
    "rfc_grid.fit(x_train,y_train)\n",
    "rfc_pred=rfc_grid.best_estimator_.predict(x_test)\n",
    "print(\"Accuracy after parameter tuning::\",accuracy_score(y_test,rfc_pred))"
   ]
  },
  {
   "cell_type": "code",
   "execution_count": 143,
   "id": "ffe66048",
   "metadata": {},
   "outputs": [
    {
     "data": {
      "text/plain": [
       "{'criterion': 'gini',\n",
       " 'min_samples_split': 2,\n",
       " 'n_estimators': 200,\n",
       " 'random_state': 10}"
      ]
     },
     "execution_count": 143,
     "metadata": {},
     "output_type": "execute_result"
    }
   ],
   "source": [
    "rfc_grid.best_params_"
   ]
  },
  {
   "cell_type": "markdown",
   "id": "bbaff64b",
   "metadata": {},
   "source": [
    "##### model training with best parameters"
   ]
  },
  {
   "cell_type": "code",
   "execution_count": 144,
   "id": "54f92df5",
   "metadata": {},
   "outputs": [],
   "source": [
    "best_param={\n",
    "    'criterion' : ['gini'],\n",
    "    'n_estimators':[200],\n",
    "    'min_samples_split':[2],\n",
    "     'random_state':[10]    }"
   ]
  },
  {
   "cell_type": "code",
   "execution_count": 145,
   "id": "9aefc719",
   "metadata": {},
   "outputs": [],
   "source": [
    "best_rfc_grid=GridSearchCV(RandomForestClassifier(),best_param,cv=4,scoring='accuracy',n_jobs=-1,verbose=2)"
   ]
  },
  {
   "cell_type": "code",
   "execution_count": 146,
   "id": "62bf95e3",
   "metadata": {},
   "outputs": [
    {
     "name": "stdout",
     "output_type": "stream",
     "text": [
      "Fitting 4 folds for each of 1 candidates, totalling 4 fits\n",
      "Accuracy after parameter tuning:: 0.8284518828451883\n"
     ]
    }
   ],
   "source": [
    "best_rfc_grid.fit(x_train,y_train)\n",
    "best_rfc_pred=best_rfc_grid.best_estimator_.predict(x_test)\n",
    "print(\"Accuracy after parameter tuning::\",accuracy_score(y_test,best_rfc_pred))"
   ]
  },
  {
   "cell_type": "markdown",
   "id": "a727f11b",
   "metadata": {},
   "source": [
    "#### Report of RandomForestClassifier"
   ]
  },
  {
   "cell_type": "code",
   "execution_count": 147,
   "id": "b99fb214",
   "metadata": {},
   "outputs": [
    {
     "name": "stdout",
     "output_type": "stream",
     "text": [
      "CLASSIFICATION REPORT::\n",
      "               precision    recall  f1-score   support\n",
      "\n",
      "           0       0.61      0.92      0.73        12\n",
      "           1       0.84      0.75      0.79        68\n",
      "           2       0.80      0.21      0.33        19\n",
      "           3       0.78      0.96      0.86        68\n",
      "           4       0.00      0.00      0.00         2\n",
      "           5       0.29      0.40      0.33         5\n",
      "           6       1.00      1.00      1.00        30\n",
      "           7       1.00      1.00      1.00        35\n",
      "\n",
      "    accuracy                           0.83       239\n",
      "   macro avg       0.66      0.65      0.63       239\n",
      "weighted avg       0.83      0.83      0.81       239\n",
      "\n"
     ]
    }
   ],
   "source": [
    "print(\"CLASSIFICATION REPORT::\\n\",classification_report(y_test,best_rfc_pred))"
   ]
  },
  {
   "cell_type": "code",
   "execution_count": 148,
   "id": "1c256136",
   "metadata": {},
   "outputs": [
    {
     "data": {
      "text/plain": [
       "<AxesSubplot:>"
      ]
     },
     "execution_count": 148,
     "metadata": {},
     "output_type": "execute_result"
    },
    {
     "data": {
      "image/png": "[encoded data removed]",
      "text/plain": [
       "<Figure size 432x288 with 2 Axes>"
      ]
     },
     "metadata": {},
     "output_type": "display_data"
    }
   ],
   "source": [
    "clsf_repo = classification_report(y_test,best_rfc_pred,output_dict=True)\n",
    "sns.heatmap(pd.DataFrame(clsf_repo).T, annot=True)"
   ]
  },
  {
   "cell_type": "code",
   "execution_count": 149,
   "id": "1b96e985",
   "metadata": {},
   "outputs": [],
   "source": [
    "from sklearn.metrics import roc_auc_score"
   ]
  },
  {
   "cell_type": "code",
   "execution_count": 150,
   "id": "cc8580af",
   "metadata": {},
   "outputs": [
    {
     "name": "stdout",
     "output_type": "stream",
     "text": [
      "Fitting 4 folds for each of 1 candidates, totalling 4 fits\n",
      "One-vs-One ROC AUC scores:\n",
      "0.936745 (macro),\n",
      "0.950466 (weighted by prevalence)\n",
      "========================================\n",
      "One-vs-Rest ROC AUC scores:\n",
      "0.951641 (macro),\n",
      "0.971094 (weighted by prevalence)\n"
     ]
    }
   ],
   "source": [
    "y_prob = best_rfc_grid.fit(x_train,y_train).predict_proba(x_test)\n",
    "\n",
    "macro_roc_auc_ovo = roc_auc_score(y_test, y_prob, multi_class=\"ovo\", average=\"macro\")\n",
    "weighted_roc_auc_ovo = roc_auc_score(y_test, y_prob, multi_class=\"ovo\", average=\"weighted\")\n",
    "macro_roc_auc_ovr = roc_auc_score(y_test, y_prob, multi_class=\"ovr\", average=\"macro\")\n",
    "weighted_roc_auc_ovr = roc_auc_score(y_test, y_prob, multi_class=\"ovr\", average=\"weighted\")\n",
    "print(\"One-vs-One ROC AUC scores:\\n{:.6f} (macro),\\n{:.6f} \"\n",
    "      \"(weighted by prevalence)\"\n",
    "      .format(macro_roc_auc_ovo, weighted_roc_auc_ovo))\n",
    "print(\"=\"*40)\n",
    "print(\"One-vs-Rest ROC AUC scores:\\n{:.6f} (macro),\\n{:.6f} \"\n",
    "      \"(weighted by prevalence)\"\n",
    "      .format(macro_roc_auc_ovr, weighted_roc_auc_ovr))"
   ]
  },
  {
   "cell_type": "markdown",
   "id": "fa1568ab",
   "metadata": {},
   "source": [
    "#### Saving Model:"
   ]
  },
  {
   "cell_type": "code",
   "execution_count": 152,
   "id": "42b67458",
   "metadata": {},
   "outputs": [],
   "source": [
    "import joblib"
   ]
  },
  {
   "cell_type": "code",
   "execution_count": 153,
   "id": "afa8dbdb",
   "metadata": {},
   "outputs": [
    {
     "data": {
      "text/plain": [
       "['Global Power Plant Classification.obj']"
      ]
     },
     "execution_count": 153,
     "metadata": {},
     "output_type": "execute_result"
    }
   ],
   "source": [
    "joblib.dump(best_rfc_grid.best_estimator_,'Global Power Plant Classification.obj')"
   ]
  },
  {
   "cell_type": "code",
   "execution_count": null,
   "id": "3381f555",
   "metadata": {},
   "outputs": [],
   "source": []
  }
 ],
 "metadata": {
  "kernelspec": {
   "display_name": "Python 3",
   "language": "python",
   "name": "python3"
  },
  "language_info": {
   "codemirror_mode": {
    "name": "ipython",
    "version": 3
   },
   "file_extension": ".py",
   "mimetype": "text/x-python",
   "name": "python",
   "nbconvert_exporter": "python",
   "pygments_lexer": "ipython3",
   "version": "3.8.8"
  }
 },
 "nbformat": 4,
 "nbformat_minor": 5
}
